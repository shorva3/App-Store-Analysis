{
 "cells": [
  {
   "cell_type": "code",
   "execution_count": 181,
   "metadata": {},
   "outputs": [
    {
     "data": {
      "text/html": [
       "<div>\n",
       "<style scoped>\n",
       "    .dataframe tbody tr th:only-of-type {\n",
       "        vertical-align: middle;\n",
       "    }\n",
       "\n",
       "    .dataframe tbody tr th {\n",
       "        vertical-align: top;\n",
       "    }\n",
       "\n",
       "    .dataframe thead th {\n",
       "        text-align: right;\n",
       "    }\n",
       "</style>\n",
       "<table border=\"1\" class=\"dataframe\">\n",
       "  <thead>\n",
       "    <tr style=\"text-align: right;\">\n",
       "      <th></th>\n",
       "      <th>App</th>\n",
       "      <th>Category</th>\n",
       "      <th>Rating</th>\n",
       "      <th>Reviews</th>\n",
       "      <th>Size</th>\n",
       "      <th>Installs</th>\n",
       "      <th>Type</th>\n",
       "      <th>Price</th>\n",
       "      <th>Content Rating</th>\n",
       "      <th>Genres</th>\n",
       "      <th>Last Updated</th>\n",
       "      <th>Current Ver</th>\n",
       "      <th>Android Ver</th>\n",
       "    </tr>\n",
       "  </thead>\n",
       "  <tbody>\n",
       "    <tr>\n",
       "      <th>0</th>\n",
       "      <td>Photo Editor &amp; Candy Camera &amp; Grid &amp; ScrapBook</td>\n",
       "      <td>ART_AND_DESIGN</td>\n",
       "      <td>$4.10</td>\n",
       "      <td>159</td>\n",
       "      <td>19M</td>\n",
       "      <td>10,000+</td>\n",
       "      <td>Free</td>\n",
       "      <td>0</td>\n",
       "      <td>Everyone</td>\n",
       "      <td>Art &amp; Design</td>\n",
       "      <td>January 7, 2018</td>\n",
       "      <td>1.0.0</td>\n",
       "      <td>4.0.3 and up</td>\n",
       "    </tr>\n",
       "    <tr>\n",
       "      <th>1</th>\n",
       "      <td>Coloring book moana</td>\n",
       "      <td>ART_AND_DESIGN</td>\n",
       "      <td>$3.90</td>\n",
       "      <td>967</td>\n",
       "      <td>14M</td>\n",
       "      <td>500,000+</td>\n",
       "      <td>Free</td>\n",
       "      <td>0</td>\n",
       "      <td>Everyone</td>\n",
       "      <td>Art &amp; Design;Pretend Play</td>\n",
       "      <td>January 15, 2018</td>\n",
       "      <td>2.0.0</td>\n",
       "      <td>4.0.3 and up</td>\n",
       "    </tr>\n",
       "    <tr>\n",
       "      <th>2</th>\n",
       "      <td>U Launcher Lite – FREE Live Cool Themes, Hide ...</td>\n",
       "      <td>ART_AND_DESIGN</td>\n",
       "      <td>$4.70</td>\n",
       "      <td>87510</td>\n",
       "      <td>8.7M</td>\n",
       "      <td>5,000,000+</td>\n",
       "      <td>Free</td>\n",
       "      <td>0</td>\n",
       "      <td>Everyone</td>\n",
       "      <td>Art &amp; Design</td>\n",
       "      <td>August 1, 2018</td>\n",
       "      <td>1.2.4</td>\n",
       "      <td>4.0.3 and up</td>\n",
       "    </tr>\n",
       "    <tr>\n",
       "      <th>3</th>\n",
       "      <td>Sketch - Draw &amp; Paint</td>\n",
       "      <td>ART_AND_DESIGN</td>\n",
       "      <td>$4.50</td>\n",
       "      <td>215644</td>\n",
       "      <td>25M</td>\n",
       "      <td>50,000,000+</td>\n",
       "      <td>Free</td>\n",
       "      <td>0</td>\n",
       "      <td>Teen</td>\n",
       "      <td>Art &amp; Design</td>\n",
       "      <td>June 8, 2018</td>\n",
       "      <td>Varies with device</td>\n",
       "      <td>4.2 and up</td>\n",
       "    </tr>\n",
       "    <tr>\n",
       "      <th>4</th>\n",
       "      <td>Pixel Draw - Number Art Coloring Book</td>\n",
       "      <td>ART_AND_DESIGN</td>\n",
       "      <td>$4.30</td>\n",
       "      <td>967</td>\n",
       "      <td>2.8M</td>\n",
       "      <td>100,000+</td>\n",
       "      <td>Free</td>\n",
       "      <td>0</td>\n",
       "      <td>Everyone</td>\n",
       "      <td>Art &amp; Design;Creativity</td>\n",
       "      <td>June 20, 2018</td>\n",
       "      <td>1.1</td>\n",
       "      <td>4.4 and up</td>\n",
       "    </tr>\n",
       "  </tbody>\n",
       "</table>\n",
       "</div>"
      ],
      "text/plain": [
       "                                                 App        Category  Rating  \\\n",
       "0     Photo Editor & Candy Camera & Grid & ScrapBook  ART_AND_DESIGN   $4.10   \n",
       "1                                Coloring book moana  ART_AND_DESIGN   $3.90   \n",
       "2  U Launcher Lite – FREE Live Cool Themes, Hide ...  ART_AND_DESIGN   $4.70   \n",
       "3                              Sketch - Draw & Paint  ART_AND_DESIGN   $4.50   \n",
       "4              Pixel Draw - Number Art Coloring Book  ART_AND_DESIGN   $4.30   \n",
       "\n",
       "  Reviews  Size     Installs  Type Price Content Rating  \\\n",
       "0     159   19M      10,000+  Free     0       Everyone   \n",
       "1     967   14M     500,000+  Free     0       Everyone   \n",
       "2   87510  8.7M   5,000,000+  Free     0       Everyone   \n",
       "3  215644   25M  50,000,000+  Free     0           Teen   \n",
       "4     967  2.8M     100,000+  Free     0       Everyone   \n",
       "\n",
       "                      Genres      Last Updated         Current Ver  \\\n",
       "0               Art & Design   January 7, 2018               1.0.0   \n",
       "1  Art & Design;Pretend Play  January 15, 2018               2.0.0   \n",
       "2               Art & Design    August 1, 2018               1.2.4   \n",
       "3               Art & Design      June 8, 2018  Varies with device   \n",
       "4    Art & Design;Creativity     June 20, 2018                 1.1   \n",
       "\n",
       "    Android Ver  \n",
       "0  4.0.3 and up  \n",
       "1  4.0.3 and up  \n",
       "2  4.0.3 and up  \n",
       "3    4.2 and up  \n",
       "4    4.4 and up  "
      ]
     },
     "execution_count": 181,
     "metadata": {},
     "output_type": "execute_result"
    }
   ],
   "source": [
    "import pandas as pd\n",
    "import numpy as np\n",
    "import matplotlib.pyplot as plt\n",
    "from scipy.stats import linregress\n",
    "import seaborn as sns\n",
    "file = \"googleplaystore.csv\"\n",
    "df = pd.read_csv(file, encoding = \"utf8\")\n",
    "df.head()"
   ]
  },
  {
   "cell_type": "markdown",
   "metadata": {},
   "source": [
    "### Clean data for analysis"
   ]
  },
  {
   "cell_type": "code",
   "execution_count": 182,
   "metadata": {},
   "outputs": [
    {
     "name": "stdout",
     "output_type": "stream",
     "text": [
      "(10841, 13)\n"
     ]
    }
   ],
   "source": [
    "print(df.shape)"
   ]
  },
  {
   "cell_type": "code",
   "execution_count": 183,
   "metadata": {},
   "outputs": [
    {
     "name": "stdout",
     "output_type": "stream",
     "text": [
      "(9360, 13)\n"
     ]
    }
   ],
   "source": [
    "total = df.isnull().sum().sort_values(ascending=False)\n",
    "percent = (df.isnull().sum()/df.isnull().count()).sort_values(ascending=False)\n",
    "missing_data = pd.concat([total, percent], axis=1, keys=['Total', 'Percent'])\n",
    "df.dropna(how ='any', inplace = True)\n",
    "print(df.shape)"
   ]
  },
  {
   "cell_type": "code",
   "execution_count": 5,
   "metadata": {},
   "outputs": [
    {
     "data": {
      "text/plain": [
       "<bound method NDFrame.head of                 Total  Percent\n",
       "Android Ver         0      0.0\n",
       "Current Ver         0      0.0\n",
       "Last Updated        0      0.0\n",
       "Genres              0      0.0\n",
       "Content Rating      0      0.0\n",
       "Price               0      0.0\n",
       "Type                0      0.0\n",
       "Installs            0      0.0\n",
       "Size                0      0.0\n",
       "Reviews             0      0.0\n",
       "Rating              0      0.0\n",
       "Category            0      0.0\n",
       "App                 0      0.0>"
      ]
     },
     "execution_count": 5,
     "metadata": {},
     "output_type": "execute_result"
    }
   ],
   "source": [
    "total = df.isnull().sum().sort_values(ascending=False)\n",
    "percent = (df.isnull().sum()/df.isnull().count()).sort_values(ascending=False)\n",
    "missing_data = pd.concat([total, percent], axis=1, keys=['Total', 'Percent'])\n",
    "missing_data.head"
   ]
  },
  {
   "cell_type": "code",
   "execution_count": 6,
   "metadata": {},
   "outputs": [
    {
     "name": "stdout",
     "output_type": "stream",
     "text": [
      "(8886, 13)\n"
     ]
    }
   ],
   "source": [
    "df.drop_duplicates(keep = 'first', inplace = True)\n",
    "print(df.shape)"
   ]
  },
  {
   "cell_type": "code",
   "execution_count": 7,
   "metadata": {},
   "outputs": [
    {
     "name": "stdout",
     "output_type": "stream",
     "text": [
      "(8190, 13)\n"
     ]
    }
   ],
   "source": [
    "df = df.sort_values('Reviews', ascending=False)\n",
    "df = df.drop_duplicates(subset='App', keep='first')\n",
    "print(df.shape)"
   ]
  },
  {
   "cell_type": "code",
   "execution_count": 8,
   "metadata": {},
   "outputs": [],
   "source": [
    "df['Reviews'] = df['Reviews'].apply(lambda x: int(x))\n",
    "df['Rating'] = df['Rating'].apply(lambda x: float(x))\n",
    "df['Size'].replace('Varies with device', np.nan, inplace = True)"
   ]
  },
  {
   "cell_type": "code",
   "execution_count": 9,
   "metadata": {},
   "outputs": [],
   "source": [
    "df['Installs'] = df['Installs'].apply(lambda x: x.replace('+',''))\n",
    "df['Installs'] = df['Installs'].apply(lambda x: x.replace(',',''))\n",
    "df['Installs'] = df['Installs'].astype(int)"
   ]
  },
  {
   "cell_type": "code",
   "execution_count": 10,
   "metadata": {},
   "outputs": [],
   "source": [
    "df['Price'] = df['Price'].apply(lambda x: x.replace('$',''))\n",
    "df['Price'] = df['Price'].apply(lambda x: float(x))"
   ]
  },
  {
   "cell_type": "code",
   "execution_count": 11,
   "metadata": {},
   "outputs": [
    {
     "data": {
      "text/plain": [
       "count    8190.000000\n",
       "mean        1.038342\n",
       "std        16.864040\n",
       "min         0.000000\n",
       "25%         0.000000\n",
       "50%         0.000000\n",
       "75%         0.000000\n",
       "max       400.000000\n",
       "Name: Price, dtype: float64"
      ]
     },
     "execution_count": 11,
     "metadata": {},
     "output_type": "execute_result"
    }
   ],
   "source": [
    "df['Price'].describe()"
   ]
  },
  {
   "cell_type": "code",
   "execution_count": 154,
   "metadata": {},
   "outputs": [
    {
     "data": {
      "text/plain": [
       "count   $73.00\n",
       "mean     $4.18\n",
       "std      $0.48\n",
       "min      $2.00\n",
       "25%      $4.01\n",
       "50%      $4.28\n",
       "75%      $4.45\n",
       "max      $5.00\n",
       "Name: Rating, dtype: float64"
      ]
     },
     "execution_count": 154,
     "metadata": {},
     "output_type": "execute_result"
    }
   ],
   "source": [
    "dfrating = df.groupby(['Price'])['Rating'].mean()\n",
    "dfrating.describe()"
   ]
  },
  {
   "cell_type": "markdown",
   "metadata": {},
   "source": [
    "### Average Rating is 4.17"
   ]
  },
  {
   "cell_type": "markdown",
   "metadata": {},
   "source": [
    "#### Including free apps, avg cost is 1.03"
   ]
  },
  {
   "cell_type": "code",
   "execution_count": 176,
   "metadata": {},
   "outputs": [
    {
     "data": {
      "text/html": [
       "<div>\n",
       "<style scoped>\n",
       "    .dataframe tbody tr th:only-of-type {\n",
       "        vertical-align: middle;\n",
       "    }\n",
       "\n",
       "    .dataframe tbody tr th {\n",
       "        vertical-align: top;\n",
       "    }\n",
       "\n",
       "    .dataframe thead th {\n",
       "        text-align: right;\n",
       "    }\n",
       "</style>\n",
       "<table border=\"1\" class=\"dataframe\">\n",
       "  <thead>\n",
       "    <tr style=\"text-align: right;\">\n",
       "      <th></th>\n",
       "      <th>App</th>\n",
       "      <th>Category</th>\n",
       "      <th>Rating</th>\n",
       "      <th>Reviews</th>\n",
       "      <th>Size</th>\n",
       "      <th>Installs</th>\n",
       "      <th>Type</th>\n",
       "      <th>Price</th>\n",
       "      <th>Content Rating</th>\n",
       "      <th>Genres</th>\n",
       "      <th>Last Updated</th>\n",
       "      <th>Current Ver</th>\n",
       "      <th>Android Ver</th>\n",
       "    </tr>\n",
       "  </thead>\n",
       "  <tbody>\n",
       "    <tr>\n",
       "      <th>2989</th>\n",
       "      <td>GollerCepte Live Score</td>\n",
       "      <td>SPORTS</td>\n",
       "      <td>$4.20</td>\n",
       "      <td>9992</td>\n",
       "      <td>$nan</td>\n",
       "      <td>1000000</td>\n",
       "      <td>Free</td>\n",
       "      <td>$0.00</td>\n",
       "      <td>Everyone</td>\n",
       "      <td>Sports</td>\n",
       "      <td>May 23, 2018</td>\n",
       "      <td>6.5</td>\n",
       "      <td>4.1 and up</td>\n",
       "    </tr>\n",
       "    <tr>\n",
       "      <th>4970</th>\n",
       "      <td>Ad Block REMOVER - NEED ROOT</td>\n",
       "      <td>TOOLS</td>\n",
       "      <td>$3.30</td>\n",
       "      <td>999</td>\n",
       "      <td>$nan</td>\n",
       "      <td>100000</td>\n",
       "      <td>Free</td>\n",
       "      <td>$0.00</td>\n",
       "      <td>Everyone</td>\n",
       "      <td>Tools</td>\n",
       "      <td>December 17, 2013</td>\n",
       "      <td>3.2</td>\n",
       "      <td>2.2 and up</td>\n",
       "    </tr>\n",
       "    <tr>\n",
       "      <th>2705</th>\n",
       "      <td>SnipSnap Coupon App</td>\n",
       "      <td>SHOPPING</td>\n",
       "      <td>$4.20</td>\n",
       "      <td>9975</td>\n",
       "      <td>$nan</td>\n",
       "      <td>1000000</td>\n",
       "      <td>Free</td>\n",
       "      <td>$0.00</td>\n",
       "      <td>Everyone</td>\n",
       "      <td>Shopping</td>\n",
       "      <td>January 22, 2018</td>\n",
       "      <td>1.4</td>\n",
       "      <td>4.3 and up</td>\n",
       "    </tr>\n",
       "    <tr>\n",
       "      <th>3229</th>\n",
       "      <td>DreamTrips</td>\n",
       "      <td>TRAVEL_AND_LOCAL</td>\n",
       "      <td>$4.70</td>\n",
       "      <td>9971</td>\n",
       "      <td>$nan</td>\n",
       "      <td>500000</td>\n",
       "      <td>Free</td>\n",
       "      <td>$0.00</td>\n",
       "      <td>Teen</td>\n",
       "      <td>Travel &amp; Local</td>\n",
       "      <td>August 6, 2018</td>\n",
       "      <td>1.28.1</td>\n",
       "      <td>5.0 and up</td>\n",
       "    </tr>\n",
       "    <tr>\n",
       "      <th>3049</th>\n",
       "      <td>US Open Tennis Championships 2018</td>\n",
       "      <td>SPORTS</td>\n",
       "      <td>$4.00</td>\n",
       "      <td>9971</td>\n",
       "      <td>$nan</td>\n",
       "      <td>1000000</td>\n",
       "      <td>Free</td>\n",
       "      <td>$0.00</td>\n",
       "      <td>Everyone</td>\n",
       "      <td>Sports</td>\n",
       "      <td>June 5, 2018</td>\n",
       "      <td>7.1</td>\n",
       "      <td>5.0 and up</td>\n",
       "    </tr>\n",
       "  </tbody>\n",
       "</table>\n",
       "</div>"
      ],
      "text/plain": [
       "                                    App          Category  Rating  Reviews  \\\n",
       "2989             GollerCepte Live Score            SPORTS   $4.20     9992   \n",
       "4970       Ad Block REMOVER - NEED ROOT             TOOLS   $3.30      999   \n",
       "2705                SnipSnap Coupon App          SHOPPING   $4.20     9975   \n",
       "3229                         DreamTrips  TRAVEL_AND_LOCAL   $4.70     9971   \n",
       "3049  US Open Tennis Championships 2018            SPORTS   $4.00     9971   \n",
       "\n",
       "      Size  Installs  Type  Price Content Rating          Genres  \\\n",
       "2989  $nan   1000000  Free  $0.00       Everyone          Sports   \n",
       "4970  $nan    100000  Free  $0.00       Everyone           Tools   \n",
       "2705  $nan   1000000  Free  $0.00       Everyone        Shopping   \n",
       "3229  $nan    500000  Free  $0.00           Teen  Travel & Local   \n",
       "3049  $nan   1000000  Free  $0.00       Everyone          Sports   \n",
       "\n",
       "           Last Updated Current Ver Android Ver  \n",
       "2989       May 23, 2018         6.5  4.1 and up  \n",
       "4970  December 17, 2013         3.2  2.2 and up  \n",
       "2705   January 22, 2018         1.4  4.3 and up  \n",
       "3229     August 6, 2018      1.28.1  5.0 and up  \n",
       "3049       June 5, 2018         7.1  5.0 and up  "
      ]
     },
     "execution_count": 176,
     "metadata": {},
     "output_type": "execute_result"
    }
   ],
   "source": [
    "df.head()"
   ]
  },
  {
   "cell_type": "code",
   "execution_count": 18,
   "metadata": {},
   "outputs": [
    {
     "data": {
      "text/plain": [
       "Comics;Creativity                      1\n",
       "Entertainment;Education                1\n",
       "Puzzle;Education                       1\n",
       "Health & Fitness;Action & Adventure    1\n",
       "Racing;Pretend Play                    1\n",
       "Name: Genres, dtype: int64"
      ]
     },
     "execution_count": 18,
     "metadata": {},
     "output_type": "execute_result"
    }
   ],
   "source": [
    "df['Genres'].value_counts().tail()"
   ]
  },
  {
   "cell_type": "code",
   "execution_count": 19,
   "metadata": {},
   "outputs": [
    {
     "data": {
      "text/plain": [
       "Casino           37\n",
       "Trivia           28\n",
       "Word             22\n",
       "Music            21\n",
       "Music & Audio     1\n",
       "Name: Genres, dtype: int64"
      ]
     },
     "execution_count": 19,
     "metadata": {},
     "output_type": "execute_result"
    }
   ],
   "source": [
    "df['Genres'] = df['Genres'].str.split(';').str[0]\n",
    "df['Genres'].value_counts().tail()"
   ]
  },
  {
   "cell_type": "code",
   "execution_count": 20,
   "metadata": {},
   "outputs": [],
   "source": [
    "df['Genres'].replace('Music & Audio', 'Music', inplace = True)"
   ]
  },
  {
   "cell_type": "code",
   "execution_count": 21,
   "metadata": {},
   "outputs": [
    {
     "data": {
      "text/plain": [
       "Beauty    42\n",
       "Casino    37\n",
       "Trivia    28\n",
       "Music     22\n",
       "Word      22\n",
       "Name: Genres, dtype: int64"
      ]
     },
     "execution_count": 21,
     "metadata": {},
     "output_type": "execute_result"
    }
   ],
   "source": [
    "df['Genres'].value_counts().tail()"
   ]
  },
  {
   "cell_type": "markdown",
   "metadata": {},
   "source": [
    "## Free vs. Paid"
   ]
  },
  {
   "cell_type": "code",
   "execution_count": 71,
   "metadata": {},
   "outputs": [
    {
     "data": {
      "image/png": "[encoded data removed]",
      "text/plain": [
       "<Figure size 432x288 with 1 Axes>"
      ]
     },
     "metadata": {},
     "output_type": "display_data"
    }
   ],
   "source": [
    "labels =df['Type'].value_counts(sort = True).index\n",
    "sizes = df['Type'].value_counts(sort = True)\n",
    "\n",
    "\n",
    "colors = [\"green\",\"orange\"]\n",
    "explode = (0.2,0)\n",
    "\n",
    "plt.pie(sizes, explode = explode, labels = labels, colors = colors, autopct = '%1.1f%%', shadow = True)\n",
    "plt.title('Percent of Free Apps in Google Store')\n",
    "plt.savefig('Google_Free_Paid_Pie_Chart.png')"
   ]
  },
  {
   "cell_type": "code",
   "execution_count": 114,
   "metadata": {},
   "outputs": [],
   "source": [
    "all_genre_installs = df.groupby(\"Category\")[\"Installs\"].mean()\n",
    "all_genre_count = df.groupby(\"Category\")[\"Installs\"].count()\n",
    "all_genre_df = pd.DataFrame({\"Installs\":all_genre_installs,\"Count\": all_genre_count})\n",
    "all_genre_df = all_genre_df.sort_values(\"Installs\",ascending=False)\n"
   ]
  },
  {
   "cell_type": "code",
   "execution_count": 187,
   "metadata": {},
   "outputs": [
    {
     "data": {
      "image/png": "[encoded data removed]",
      "text/plain": [
       "<Figure size 1440x360 with 1 Axes>"
      ]
     },
     "metadata": {
      "needs_background": "light"
     },
     "output_type": "display_data"
    }
   ],
   "source": [
    "plt.figure(figsize = (20,5))\n",
    "plt.bar(all_genre_df.index.values,all_genre_df.Installs, width = 0.5, align = 'center')\n",
    "plt.xticks(rotation=90)\n",
    "plt.title('Installs by Category in Google - Total')\n",
    "plt.xlabel('Category')\n",
    "plt.ylabel('Installs (B)')\n",
    "plt.tight_layout()\n",
    "plt.savefig('Count_Installs_by_Genre_Google_TOTAL.png')"
   ]
  },
  {
   "cell_type": "code",
   "execution_count": null,
   "metadata": {},
   "outputs": [],
   "source": [
    "plt.savefig('Count_Installs_by_Genre_Google_TOTAL.png')"
   ]
  },
  {
   "cell_type": "code",
   "execution_count": 23,
   "metadata": {},
   "outputs": [],
   "source": [
    "x_axis = df['Installs']\n",
    "y_axis = df['Rating']\n",
    "(slope, intercept, _, _, _) = linregress(x_axis, y_axis)\n",
    "fit = slope * x_axis + intercept"
   ]
  },
  {
   "cell_type": "code",
   "execution_count": 24,
   "metadata": {},
   "outputs": [
    {
     "data": {
      "image/png": "[encoded data removed]",
      "text/plain": [
       "<Figure size 432x288 with 1 Axes>"
      ]
     },
     "metadata": {
      "needs_background": "light"
     },
     "output_type": "display_data"
    }
   ],
   "source": [
    "fig, ax = plt.subplots()\n",
    "\n",
    "fig.suptitle(\"Installs & Rating\", fontsize=16, fontweight=\"bold\")\n",
    "\n",
    "ax.set_xlabel(\"Installs\")\n",
    "ax.set_ylabel(\"Rating\")\n",
    "\n",
    "ax.plot(x_axis, y_axis, linewidth=0, marker='o')\n",
    "ax.plot(x_axis, fit, 'b--')\n",
    "\n",
    "plt.show()"
   ]
  },
  {
   "cell_type": "markdown",
   "metadata": {},
   "source": [
    "## Calculate and add profit"
   ]
  },
  {
   "cell_type": "code",
   "execution_count": 25,
   "metadata": {},
   "outputs": [
    {
     "name": "stderr",
     "output_type": "stream",
     "text": [
      "C:\\Users\\shorv\\Anaconda3\\lib\\site-packages\\ipykernel_launcher.py:3: SettingWithCopyWarning: \n",
      "A value is trying to be set on a copy of a slice from a DataFrame.\n",
      "Try using .loc[row_indexer,col_indexer] = value instead\n",
      "\n",
      "See the caveats in the documentation: http://pandas.pydata.org/pandas-docs/stable/indexing.html#indexing-view-versus-copy\n",
      "  This is separate from the ipykernel package so we can avoid doing imports until\n"
     ]
    },
    {
     "data": {
      "text/html": [
       "<div>\n",
       "<style scoped>\n",
       "    .dataframe tbody tr th:only-of-type {\n",
       "        vertical-align: middle;\n",
       "    }\n",
       "\n",
       "    .dataframe tbody tr th {\n",
       "        vertical-align: top;\n",
       "    }\n",
       "\n",
       "    .dataframe thead th {\n",
       "        text-align: right;\n",
       "    }\n",
       "</style>\n",
       "<table border=\"1\" class=\"dataframe\">\n",
       "  <thead>\n",
       "    <tr style=\"text-align: right;\">\n",
       "      <th></th>\n",
       "      <th>App</th>\n",
       "      <th>Category</th>\n",
       "      <th>Rating</th>\n",
       "      <th>Reviews</th>\n",
       "      <th>Size</th>\n",
       "      <th>Installs</th>\n",
       "      <th>Type</th>\n",
       "      <th>Price</th>\n",
       "      <th>Content Rating</th>\n",
       "      <th>Genres</th>\n",
       "      <th>Last Updated</th>\n",
       "      <th>Current Ver</th>\n",
       "      <th>Android Ver</th>\n",
       "      <th>Profit</th>\n",
       "    </tr>\n",
       "  </thead>\n",
       "  <tbody>\n",
       "    <tr>\n",
       "      <th>3403</th>\n",
       "      <td>Beautiful Widgets Pro</td>\n",
       "      <td>PERSONALIZATION</td>\n",
       "      <td>4.2</td>\n",
       "      <td>97890</td>\n",
       "      <td>14M</td>\n",
       "      <td>1000000</td>\n",
       "      <td>Paid</td>\n",
       "      <td>2.49</td>\n",
       "      <td>Everyone</td>\n",
       "      <td>Personalization</td>\n",
       "      <td>August 24, 2016</td>\n",
       "      <td>5.7.8</td>\n",
       "      <td>2.3 and up</td>\n",
       "      <td>2490000.0</td>\n",
       "    </tr>\n",
       "    <tr>\n",
       "      <th>2170</th>\n",
       "      <td>Hactar Go</td>\n",
       "      <td>FAMILY</td>\n",
       "      <td>4.8</td>\n",
       "      <td>97</td>\n",
       "      <td>3.5M</td>\n",
       "      <td>1000</td>\n",
       "      <td>Paid</td>\n",
       "      <td>2.99</td>\n",
       "      <td>Everyone</td>\n",
       "      <td>Board</td>\n",
       "      <td>March 30, 2018</td>\n",
       "      <td>2.4.15</td>\n",
       "      <td>4.0 and up</td>\n",
       "      <td>2990.0</td>\n",
       "    </tr>\n",
       "    <tr>\n",
       "      <th>10035</th>\n",
       "      <td>Deus Ex GO</td>\n",
       "      <td>FAMILY</td>\n",
       "      <td>4.5</td>\n",
       "      <td>9699</td>\n",
       "      <td>23M</td>\n",
       "      <td>100000</td>\n",
       "      <td>Paid</td>\n",
       "      <td>0.99</td>\n",
       "      <td>Teen</td>\n",
       "      <td>Puzzle</td>\n",
       "      <td>July 23, 2018</td>\n",
       "      <td>2.1.111374</td>\n",
       "      <td>4.2 and up</td>\n",
       "      <td>99000.0</td>\n",
       "    </tr>\n",
       "    <tr>\n",
       "      <th>8723</th>\n",
       "      <td>DRAGON QUEST</td>\n",
       "      <td>FAMILY</td>\n",
       "      <td>4.2</td>\n",
       "      <td>9659</td>\n",
       "      <td>30M</td>\n",
       "      <td>100000</td>\n",
       "      <td>Paid</td>\n",
       "      <td>2.99</td>\n",
       "      <td>Everyone</td>\n",
       "      <td>Role Playing</td>\n",
       "      <td>March 10, 2017</td>\n",
       "      <td>1.0.7</td>\n",
       "      <td>2.3 and up</td>\n",
       "      <td>299000.0</td>\n",
       "    </tr>\n",
       "    <tr>\n",
       "      <th>4606</th>\n",
       "      <td>I Can't Wake Up!</td>\n",
       "      <td>TOOLS</td>\n",
       "      <td>4.7</td>\n",
       "      <td>963</td>\n",
       "      <td>3.7M</td>\n",
       "      <td>10000</td>\n",
       "      <td>Paid</td>\n",
       "      <td>2.99</td>\n",
       "      <td>Everyone</td>\n",
       "      <td>Tools</td>\n",
       "      <td>May 25, 2018</td>\n",
       "      <td>3.4.0</td>\n",
       "      <td>4.0 and up</td>\n",
       "      <td>29900.0</td>\n",
       "    </tr>\n",
       "  </tbody>\n",
       "</table>\n",
       "</div>"
      ],
      "text/plain": [
       "                         App         Category  Rating  Reviews  Size  \\\n",
       "3403   Beautiful Widgets Pro  PERSONALIZATION     4.2    97890   14M   \n",
       "2170               Hactar Go           FAMILY     4.8       97  3.5M   \n",
       "10035             Deus Ex GO           FAMILY     4.5     9699   23M   \n",
       "8723            DRAGON QUEST           FAMILY     4.2     9659   30M   \n",
       "4606        I Can't Wake Up!            TOOLS     4.7      963  3.7M   \n",
       "\n",
       "       Installs  Type  Price Content Rating           Genres     Last Updated  \\\n",
       "3403    1000000  Paid   2.49       Everyone  Personalization  August 24, 2016   \n",
       "2170       1000  Paid   2.99       Everyone            Board   March 30, 2018   \n",
       "10035    100000  Paid   0.99           Teen           Puzzle    July 23, 2018   \n",
       "8723     100000  Paid   2.99       Everyone     Role Playing   March 10, 2017   \n",
       "4606      10000  Paid   2.99       Everyone            Tools     May 25, 2018   \n",
       "\n",
       "      Current Ver Android Ver     Profit  \n",
       "3403        5.7.8  2.3 and up  2490000.0  \n",
       "2170       2.4.15  4.0 and up     2990.0  \n",
       "10035  2.1.111374  4.2 and up    99000.0  \n",
       "8723        1.0.7  2.3 and up   299000.0  \n",
       "4606        3.4.0  4.0 and up    29900.0  "
      ]
     },
     "execution_count": 25,
     "metadata": {},
     "output_type": "execute_result"
    }
   ],
   "source": [
    "df_p = df.loc[df['Type'] != 'Free']\n",
    "\n",
    "df_p['Profit'] = df_p.Installs * df_p.Price\n",
    "\n",
    "df_p.head()"
   ]
  },
  {
   "cell_type": "markdown",
   "metadata": {},
   "source": [
    "## Free vs Not Free (taking out outliers, paid apps under 10.00)"
   ]
  },
  {
   "cell_type": "code",
   "execution_count": 26,
   "metadata": {},
   "outputs": [],
   "source": [
    "paid_app = df_p.loc[df_p['Price'] < 10.00]"
   ]
  },
  {
   "cell_type": "code",
   "execution_count": 27,
   "metadata": {},
   "outputs": [
    {
     "data": {
      "text/html": [
       "<div>\n",
       "<style scoped>\n",
       "    .dataframe tbody tr th:only-of-type {\n",
       "        vertical-align: middle;\n",
       "    }\n",
       "\n",
       "    .dataframe tbody tr th {\n",
       "        vertical-align: top;\n",
       "    }\n",
       "\n",
       "    .dataframe thead th {\n",
       "        text-align: right;\n",
       "    }\n",
       "</style>\n",
       "<table border=\"1\" class=\"dataframe\">\n",
       "  <thead>\n",
       "    <tr style=\"text-align: right;\">\n",
       "      <th></th>\n",
       "      <th>App</th>\n",
       "      <th>Category</th>\n",
       "      <th>Rating</th>\n",
       "      <th>Reviews</th>\n",
       "      <th>Size</th>\n",
       "      <th>Installs</th>\n",
       "      <th>Type</th>\n",
       "      <th>Price</th>\n",
       "      <th>Content Rating</th>\n",
       "      <th>Genres</th>\n",
       "      <th>Last Updated</th>\n",
       "      <th>Current Ver</th>\n",
       "      <th>Android Ver</th>\n",
       "      <th>Profit</th>\n",
       "    </tr>\n",
       "  </thead>\n",
       "  <tbody>\n",
       "    <tr>\n",
       "      <th>3403</th>\n",
       "      <td>Beautiful Widgets Pro</td>\n",
       "      <td>PERSONALIZATION</td>\n",
       "      <td>4.2</td>\n",
       "      <td>97890</td>\n",
       "      <td>14M</td>\n",
       "      <td>1000000</td>\n",
       "      <td>Paid</td>\n",
       "      <td>2.49</td>\n",
       "      <td>Everyone</td>\n",
       "      <td>Personalization</td>\n",
       "      <td>August 24, 2016</td>\n",
       "      <td>5.7.8</td>\n",
       "      <td>2.3 and up</td>\n",
       "      <td>2490000.0</td>\n",
       "    </tr>\n",
       "    <tr>\n",
       "      <th>2170</th>\n",
       "      <td>Hactar Go</td>\n",
       "      <td>FAMILY</td>\n",
       "      <td>4.8</td>\n",
       "      <td>97</td>\n",
       "      <td>3.5M</td>\n",
       "      <td>1000</td>\n",
       "      <td>Paid</td>\n",
       "      <td>2.99</td>\n",
       "      <td>Everyone</td>\n",
       "      <td>Board</td>\n",
       "      <td>March 30, 2018</td>\n",
       "      <td>2.4.15</td>\n",
       "      <td>4.0 and up</td>\n",
       "      <td>2990.0</td>\n",
       "    </tr>\n",
       "    <tr>\n",
       "      <th>10035</th>\n",
       "      <td>Deus Ex GO</td>\n",
       "      <td>FAMILY</td>\n",
       "      <td>4.5</td>\n",
       "      <td>9699</td>\n",
       "      <td>23M</td>\n",
       "      <td>100000</td>\n",
       "      <td>Paid</td>\n",
       "      <td>0.99</td>\n",
       "      <td>Teen</td>\n",
       "      <td>Puzzle</td>\n",
       "      <td>July 23, 2018</td>\n",
       "      <td>2.1.111374</td>\n",
       "      <td>4.2 and up</td>\n",
       "      <td>99000.0</td>\n",
       "    </tr>\n",
       "    <tr>\n",
       "      <th>8723</th>\n",
       "      <td>DRAGON QUEST</td>\n",
       "      <td>FAMILY</td>\n",
       "      <td>4.2</td>\n",
       "      <td>9659</td>\n",
       "      <td>30M</td>\n",
       "      <td>100000</td>\n",
       "      <td>Paid</td>\n",
       "      <td>2.99</td>\n",
       "      <td>Everyone</td>\n",
       "      <td>Role Playing</td>\n",
       "      <td>March 10, 2017</td>\n",
       "      <td>1.0.7</td>\n",
       "      <td>2.3 and up</td>\n",
       "      <td>299000.0</td>\n",
       "    </tr>\n",
       "    <tr>\n",
       "      <th>4606</th>\n",
       "      <td>I Can't Wake Up!</td>\n",
       "      <td>TOOLS</td>\n",
       "      <td>4.7</td>\n",
       "      <td>963</td>\n",
       "      <td>3.7M</td>\n",
       "      <td>10000</td>\n",
       "      <td>Paid</td>\n",
       "      <td>2.99</td>\n",
       "      <td>Everyone</td>\n",
       "      <td>Tools</td>\n",
       "      <td>May 25, 2018</td>\n",
       "      <td>3.4.0</td>\n",
       "      <td>4.0 and up</td>\n",
       "      <td>29900.0</td>\n",
       "    </tr>\n",
       "  </tbody>\n",
       "</table>\n",
       "</div>"
      ],
      "text/plain": [
       "                         App         Category  Rating  Reviews  Size  \\\n",
       "3403   Beautiful Widgets Pro  PERSONALIZATION     4.2    97890   14M   \n",
       "2170               Hactar Go           FAMILY     4.8       97  3.5M   \n",
       "10035             Deus Ex GO           FAMILY     4.5     9699   23M   \n",
       "8723            DRAGON QUEST           FAMILY     4.2     9659   30M   \n",
       "4606        I Can't Wake Up!            TOOLS     4.7      963  3.7M   \n",
       "\n",
       "       Installs  Type  Price Content Rating           Genres     Last Updated  \\\n",
       "3403    1000000  Paid   2.49       Everyone  Personalization  August 24, 2016   \n",
       "2170       1000  Paid   2.99       Everyone            Board   March 30, 2018   \n",
       "10035    100000  Paid   0.99           Teen           Puzzle    July 23, 2018   \n",
       "8723     100000  Paid   2.99       Everyone     Role Playing   March 10, 2017   \n",
       "4606      10000  Paid   2.99       Everyone            Tools     May 25, 2018   \n",
       "\n",
       "      Current Ver Android Ver     Profit  \n",
       "3403        5.7.8  2.3 and up  2490000.0  \n",
       "2170       2.4.15  4.0 and up     2990.0  \n",
       "10035  2.1.111374  4.2 and up    99000.0  \n",
       "8723        1.0.7  2.3 and up   299000.0  \n",
       "4606        3.4.0  4.0 and up    29900.0  "
      ]
     },
     "execution_count": 27,
     "metadata": {},
     "output_type": "execute_result"
    }
   ],
   "source": [
    "paid_app.head()"
   ]
  },
  {
   "cell_type": "code",
   "execution_count": 28,
   "metadata": {},
   "outputs": [],
   "source": [
    "free = df.loc[df['Type'] == 'Free']"
   ]
  },
  {
   "cell_type": "markdown",
   "metadata": {},
   "source": [
    "##### Free app data frame by Genre"
   ]
  },
  {
   "cell_type": "code",
   "execution_count": 29,
   "metadata": {},
   "outputs": [
    {
     "data": {
      "text/html": [
       "<div>\n",
       "<style scoped>\n",
       "    .dataframe tbody tr th:only-of-type {\n",
       "        vertical-align: middle;\n",
       "    }\n",
       "\n",
       "    .dataframe tbody tr th {\n",
       "        vertical-align: top;\n",
       "    }\n",
       "\n",
       "    .dataframe thead th {\n",
       "        text-align: right;\n",
       "    }\n",
       "</style>\n",
       "<table border=\"1\" class=\"dataframe\">\n",
       "  <thead>\n",
       "    <tr style=\"text-align: right;\">\n",
       "      <th></th>\n",
       "      <th>Installs</th>\n",
       "      <th>Count</th>\n",
       "    </tr>\n",
       "    <tr>\n",
       "      <th>Genres</th>\n",
       "      <th></th>\n",
       "      <th></th>\n",
       "    </tr>\n",
       "  </thead>\n",
       "  <tbody>\n",
       "    <tr>\n",
       "      <th>Communication</th>\n",
       "      <td>4.696758e+07</td>\n",
       "      <td>235</td>\n",
       "    </tr>\n",
       "    <tr>\n",
       "      <th>Social</th>\n",
       "      <td>2.730266e+07</td>\n",
       "      <td>201</td>\n",
       "    </tr>\n",
       "    <tr>\n",
       "      <th>Video Players &amp; Editors</th>\n",
       "      <td>2.696388e+07</td>\n",
       "      <td>146</td>\n",
       "    </tr>\n",
       "    <tr>\n",
       "      <th>Arcade</th>\n",
       "      <td>2.296812e+07</td>\n",
       "      <td>165</td>\n",
       "    </tr>\n",
       "    <tr>\n",
       "      <th>Productivity</th>\n",
       "      <td>2.046523e+07</td>\n",
       "      <td>283</td>\n",
       "    </tr>\n",
       "  </tbody>\n",
       "</table>\n",
       "</div>"
      ],
      "text/plain": [
       "                             Installs  Count\n",
       "Genres                                      \n",
       "Communication            4.696758e+07    235\n",
       "Social                   2.730266e+07    201\n",
       "Video Players & Editors  2.696388e+07    146\n",
       "Arcade                   2.296812e+07    165\n",
       "Productivity             2.046523e+07    283"
      ]
     },
     "execution_count": 29,
     "metadata": {},
     "output_type": "execute_result"
    }
   ],
   "source": [
    "free_genre_installs = free.groupby(\"Genres\")[\"Installs\"].mean()\n",
    "free_genre_count = free.groupby(\"Genres\")[\"Installs\"].count()\n",
    "free_genre_df = pd.DataFrame({\"Installs\":free_genre_installs,\"Count\": free_genre_count})\n",
    "free_genre_df = free_genre_df.sort_values(\"Installs\",ascending=False)\n",
    "\n",
    "free_genre_df.head()"
   ]
  },
  {
   "cell_type": "markdown",
   "metadata": {},
   "source": [
    "#### Free apps by genre average installs"
   ]
  },
  {
   "cell_type": "code",
   "execution_count": 66,
   "metadata": {},
   "outputs": [
    {
     "data": {
      "image/png": "[encoded data removed]",
      "text/plain": [
       "<Figure size 432x288 with 1 Axes>"
      ]
     },
     "metadata": {
      "needs_background": "light"
     },
     "output_type": "display_data"
    }
   ],
   "source": [
    "plt.bar(free_genre_df.index.values,free_genre_df.Installs, width = 0.5, align = 'center')\n",
    "plt.xticks(rotation=90);"
   ]
  },
  {
   "cell_type": "markdown",
   "metadata": {},
   "source": [
    "##### Priced app Dataframe by Genre"
   ]
  },
  {
   "cell_type": "code",
   "execution_count": 155,
   "metadata": {},
   "outputs": [
    {
     "data": {
      "text/html": [
       "<div>\n",
       "<style scoped>\n",
       "    .dataframe tbody tr th:only-of-type {\n",
       "        vertical-align: middle;\n",
       "    }\n",
       "\n",
       "    .dataframe tbody tr th {\n",
       "        vertical-align: top;\n",
       "    }\n",
       "\n",
       "    .dataframe thead th {\n",
       "        text-align: right;\n",
       "    }\n",
       "</style>\n",
       "<table border=\"1\" class=\"dataframe\">\n",
       "  <thead>\n",
       "    <tr style=\"text-align: right;\">\n",
       "      <th></th>\n",
       "      <th>Average Price</th>\n",
       "      <th>Average Profit</th>\n",
       "      <th>Count</th>\n",
       "      <th>Average Installs</th>\n",
       "    </tr>\n",
       "    <tr>\n",
       "      <th>Genres</th>\n",
       "      <th></th>\n",
       "      <th></th>\n",
       "      <th></th>\n",
       "      <th></th>\n",
       "    </tr>\n",
       "  </thead>\n",
       "  <tbody>\n",
       "    <tr>\n",
       "      <th>Arcade</th>\n",
       "      <td>$2.04</td>\n",
       "      <td>$3,783,075.81</td>\n",
       "      <td>19</td>\n",
       "      <td>$607,221.68</td>\n",
       "    </tr>\n",
       "    <tr>\n",
       "      <th>Action</th>\n",
       "      <td>$2.89</td>\n",
       "      <td>$1,189,770.10</td>\n",
       "      <td>26</td>\n",
       "      <td>$656,259.62</td>\n",
       "    </tr>\n",
       "    <tr>\n",
       "      <th>Photography</th>\n",
       "      <td>$3.74</td>\n",
       "      <td>$609,004.27</td>\n",
       "      <td>14</td>\n",
       "      <td>$134,108.57</td>\n",
       "    </tr>\n",
       "    <tr>\n",
       "      <th>Weather</th>\n",
       "      <td>$4.20</td>\n",
       "      <td>$597,126.43</td>\n",
       "      <td>7</td>\n",
       "      <td>$115,928.57</td>\n",
       "    </tr>\n",
       "    <tr>\n",
       "      <th>Strategy</th>\n",
       "      <td>$3.67</td>\n",
       "      <td>$518,949.64</td>\n",
       "      <td>14</td>\n",
       "      <td>$149,678.57</td>\n",
       "    </tr>\n",
       "  </tbody>\n",
       "</table>\n",
       "</div>"
      ],
      "text/plain": [
       "             Average Price  Average Profit  Count  Average Installs\n",
       "Genres                                                             \n",
       "Arcade               $2.04   $3,783,075.81     19       $607,221.68\n",
       "Action               $2.89   $1,189,770.10     26       $656,259.62\n",
       "Photography          $3.74     $609,004.27     14       $134,108.57\n",
       "Weather              $4.20     $597,126.43      7       $115,928.57\n",
       "Strategy             $3.67     $518,949.64     14       $149,678.57"
      ]
     },
     "execution_count": 155,
     "metadata": {},
     "output_type": "execute_result"
    }
   ],
   "source": [
    "price_genre_avg = paid_app.groupby(['Genres'])['Price'].mean()\n",
    "price_genre_profit = paid_app.groupby(['Genres'])['Profit'].mean()\n",
    "price_genre_install = paid_app.groupby(['Genres'])['Installs'].mean()\n",
    "price_genre_count = paid_app.groupby(['Genres'])['Profit'].count()\n",
    "genres = paid_app.groupby(['Genres'])\n",
    "price_genre_df = pd.DataFrame({\n",
    "                              'Average Price': price_genre_avg,\n",
    "                              'Average Profit':price_genre_profit,\n",
    "                              'Count':price_genre_count, 'Average Installs':price_genre_install})\n",
    "price_genre_df.sort_values('Average Profit', ascending = False, inplace = True)\n",
    "\n",
    "price_genre_df.head()\n"
   ]
  },
  {
   "cell_type": "markdown",
   "metadata": {},
   "source": [
    "## Average Installs for Apps< 10 by GENRE"
   ]
  },
  {
   "cell_type": "code",
   "execution_count": 32,
   "metadata": {},
   "outputs": [
    {
     "data": {
      "text/plain": [
       "([0,\n",
       "  1,\n",
       "  2,\n",
       "  3,\n",
       "  4,\n",
       "  5,\n",
       "  6,\n",
       "  7,\n",
       "  8,\n",
       "  9,\n",
       "  10,\n",
       "  11,\n",
       "  12,\n",
       "  13,\n",
       "  14,\n",
       "  15,\n",
       "  16,\n",
       "  17,\n",
       "  18,\n",
       "  19,\n",
       "  20,\n",
       "  21,\n",
       "  22,\n",
       "  23,\n",
       "  24,\n",
       "  25,\n",
       "  26,\n",
       "  27,\n",
       "  28,\n",
       "  29,\n",
       "  30,\n",
       "  31,\n",
       "  32,\n",
       "  33,\n",
       "  34,\n",
       "  35,\n",
       "  36,\n",
       "  37,\n",
       "  38],\n",
       " <a list of 39 Text xticklabel objects>)"
      ]
     },
     "execution_count": 32,
     "metadata": {},
     "output_type": "execute_result"
    },
    {
     "data": {
      "image/png": "[encoded data removed]",
      "text/plain": [
       "<Figure size 432x288 with 1 Axes>"
      ]
     },
     "metadata": {
      "needs_background": "light"
     },
     "output_type": "display_data"
    }
   ],
   "source": [
    "plt.bar(price_genre_df.index.values,price_genre_df[\"Average Installs\"], width = 0.5, align = 'edge')\n",
    "plt.xticks(rotation=90)"
   ]
  },
  {
   "cell_type": "markdown",
   "metadata": {},
   "source": [
    "### Average Profit for Apps < 10"
   ]
  },
  {
   "cell_type": "code",
   "execution_count": 33,
   "metadata": {},
   "outputs": [
    {
     "data": {
      "text/plain": [
       "([0,\n",
       "  1,\n",
       "  2,\n",
       "  3,\n",
       "  4,\n",
       "  5,\n",
       "  6,\n",
       "  7,\n",
       "  8,\n",
       "  9,\n",
       "  10,\n",
       "  11,\n",
       "  12,\n",
       "  13,\n",
       "  14,\n",
       "  15,\n",
       "  16,\n",
       "  17,\n",
       "  18,\n",
       "  19,\n",
       "  20,\n",
       "  21,\n",
       "  22,\n",
       "  23,\n",
       "  24,\n",
       "  25,\n",
       "  26,\n",
       "  27,\n",
       "  28,\n",
       "  29,\n",
       "  30,\n",
       "  31,\n",
       "  32,\n",
       "  33,\n",
       "  34,\n",
       "  35,\n",
       "  36,\n",
       "  37,\n",
       "  38],\n",
       " <a list of 39 Text xticklabel objects>)"
      ]
     },
     "execution_count": 33,
     "metadata": {},
     "output_type": "execute_result"
    },
    {
     "data": {
      "image/png": "[encoded data removed]",
      "text/plain": [
       "<Figure size 432x288 with 1 Axes>"
      ]
     },
     "metadata": {
      "needs_background": "light"
     },
     "output_type": "display_data"
    }
   ],
   "source": [
    "plt.bar(price_genre_df.index.values,price_genre_df[\"Average Profit\"], width = 0.5, align = 'edge')\n",
    "plt.xticks(rotation=90)"
   ]
  },
  {
   "cell_type": "markdown",
   "metadata": {},
   "source": [
    "#### Mincraft & Fruit Ninja are bulk of Arcade profit"
   ]
  },
  {
   "cell_type": "markdown",
   "metadata": {},
   "source": [
    "## Free and Not Free By Category"
   ]
  },
  {
   "cell_type": "markdown",
   "metadata": {},
   "source": [
    "##### Free app Dataframe"
   ]
  },
  {
   "cell_type": "code",
   "execution_count": 125,
   "metadata": {},
   "outputs": [
    {
     "data": {
      "text/html": [
       "<div>\n",
       "<style scoped>\n",
       "    .dataframe tbody tr th:only-of-type {\n",
       "        vertical-align: middle;\n",
       "    }\n",
       "\n",
       "    .dataframe tbody tr th {\n",
       "        vertical-align: top;\n",
       "    }\n",
       "\n",
       "    .dataframe thead th {\n",
       "        text-align: right;\n",
       "    }\n",
       "</style>\n",
       "<table border=\"1\" class=\"dataframe\">\n",
       "  <thead>\n",
       "    <tr style=\"text-align: right;\">\n",
       "      <th></th>\n",
       "      <th>Installs</th>\n",
       "      <th>Count</th>\n",
       "    </tr>\n",
       "    <tr>\n",
       "      <th>Category</th>\n",
       "      <th></th>\n",
       "      <th></th>\n",
       "    </tr>\n",
       "  </thead>\n",
       "  <tbody>\n",
       "    <tr>\n",
       "      <th>GAME</th>\n",
       "      <td>$13,356,763,455.00</td>\n",
       "      <td>819</td>\n",
       "    </tr>\n",
       "    <tr>\n",
       "      <th>COMMUNICATION</th>\n",
       "      <td>$11,036,881,530.00</td>\n",
       "      <td>234</td>\n",
       "    </tr>\n",
       "    <tr>\n",
       "      <th>TOOLS</th>\n",
       "      <td>$7,998,497,680.00</td>\n",
       "      <td>655</td>\n",
       "    </tr>\n",
       "    <tr>\n",
       "      <th>FAMILY</th>\n",
       "      <td>$6,214,932,760.00</td>\n",
       "      <td>1497</td>\n",
       "    </tr>\n",
       "    <tr>\n",
       "      <th>PRODUCTIVITY</th>\n",
       "      <td>$5,791,659,370.00</td>\n",
       "      <td>283</td>\n",
       "    </tr>\n",
       "  </tbody>\n",
       "</table>\n",
       "</div>"
      ],
      "text/plain": [
       "                        Installs  Count\n",
       "Category                               \n",
       "GAME          $13,356,763,455.00    819\n",
       "COMMUNICATION $11,036,881,530.00    234\n",
       "TOOLS          $7,998,497,680.00    655\n",
       "FAMILY         $6,214,932,760.00   1497\n",
       "PRODUCTIVITY   $5,791,659,370.00    283"
      ]
     },
     "execution_count": 125,
     "metadata": {},
     "output_type": "execute_result"
    }
   ],
   "source": [
    "free_cat_installs = free.groupby(\"Category\")[\"Installs\"].sum()\n",
    "free_cat_count = free.groupby(\"Category\")[\"Installs\"].count()\n",
    "free_cat_df = pd.DataFrame({\"Installs\":free_cat_installs,\"Count\": free_cat_count})\n",
    "free_cat_df = free_cat_df.sort_values(\"Installs\",ascending=False)\n",
    "\n",
    "free_cat_df.head()"
   ]
  },
  {
   "cell_type": "markdown",
   "metadata": {},
   "source": [
    "#### Installs by Category for Free apps"
   ]
  },
  {
   "cell_type": "code",
   "execution_count": 191,
   "metadata": {},
   "outputs": [
    {
     "data": {
      "image/png": "[encoded data removed]",
      "text/plain": [
       "<Figure size 1440x360 with 1 Axes>"
      ]
     },
     "metadata": {
      "needs_background": "light"
     },
     "output_type": "display_data"
    }
   ],
   "source": [
    "plt.figure(figsize = (20,5))\n",
    "plt.bar(free_cat_df.index.values,free_cat_df.Installs, width = 0.5, align = 'center')\n",
    "plt.xticks(rotation=90)\n",
    "plt.title('Installs by Category in Google - Free Apps')\n",
    "plt.xlabel('Category')\n",
    "plt.ylabel('Installs (B)')\n",
    "plt.tight_layout()\n"
   ]
  },
  {
   "cell_type": "markdown",
   "metadata": {},
   "source": [
    "### Installs by Category for Apps under 10"
   ]
  },
  {
   "cell_type": "code",
   "execution_count": 153,
   "metadata": {},
   "outputs": [
    {
     "data": {
      "text/html": [
       "<div>\n",
       "<style scoped>\n",
       "    .dataframe tbody tr th:only-of-type {\n",
       "        vertical-align: middle;\n",
       "    }\n",
       "\n",
       "    .dataframe tbody tr th {\n",
       "        vertical-align: top;\n",
       "    }\n",
       "\n",
       "    .dataframe thead th {\n",
       "        text-align: right;\n",
       "    }\n",
       "</style>\n",
       "<table border=\"1\" class=\"dataframe\">\n",
       "  <thead>\n",
       "    <tr style=\"text-align: right;\">\n",
       "      <th></th>\n",
       "      <th>Average Price</th>\n",
       "      <th>Average Profit</th>\n",
       "      <th>Average Installs</th>\n",
       "      <th>Average Rating</th>\n",
       "    </tr>\n",
       "    <tr>\n",
       "      <th>Category</th>\n",
       "      <th></th>\n",
       "      <th></th>\n",
       "      <th></th>\n",
       "      <th></th>\n",
       "    </tr>\n",
       "  </thead>\n",
       "  <tbody>\n",
       "    <tr>\n",
       "      <th>FAMILY</th>\n",
       "      <td>$3.39</td>\n",
       "      <td>$739,489.19</td>\n",
       "      <td>151,742.00</td>\n",
       "      <td>4.27</td>\n",
       "    </tr>\n",
       "    <tr>\n",
       "      <th>PHOTOGRAPHY</th>\n",
       "      <td>$3.74</td>\n",
       "      <td>$609,004.27</td>\n",
       "      <td>134,109.00</td>\n",
       "      <td>4.05</td>\n",
       "    </tr>\n",
       "    <tr>\n",
       "      <th>WEATHER</th>\n",
       "      <td>$4.20</td>\n",
       "      <td>$597,126.43</td>\n",
       "      <td>115,929.00</td>\n",
       "      <td>4.37</td>\n",
       "    </tr>\n",
       "    <tr>\n",
       "      <th>GAME</th>\n",
       "      <td>$3.13</td>\n",
       "      <td>$552,556.72</td>\n",
       "      <td>287,386.00</td>\n",
       "      <td>4.37</td>\n",
       "    </tr>\n",
       "    <tr>\n",
       "      <th>LIFESTYLE</th>\n",
       "      <td>$3.58</td>\n",
       "      <td>$513,929.95</td>\n",
       "      <td>87,259.00</td>\n",
       "      <td>4.53</td>\n",
       "    </tr>\n",
       "  </tbody>\n",
       "</table>\n",
       "</div>"
      ],
      "text/plain": [
       "             Average Price  Average Profit Average Installs Average Rating\n",
       "Category                                                                  \n",
       "FAMILY               $3.39     $739,489.19       151,742.00           4.27\n",
       "PHOTOGRAPHY          $3.74     $609,004.27       134,109.00           4.05\n",
       "WEATHER              $4.20     $597,126.43       115,929.00           4.37\n",
       "GAME                 $3.13     $552,556.72       287,386.00           4.37\n",
       "LIFESTYLE            $3.58     $513,929.95        87,259.00           4.53"
      ]
     },
     "execution_count": 153,
     "metadata": {},
     "output_type": "execute_result"
    }
   ],
   "source": [
    "price_genre_avg = round(paid_app.groupby(['Category'])['Price'].mean(),2)\n",
    "price_genre_profit = round(paid_app.groupby(['Category'])['Profit'].mean(),2)\n",
    "price_genre_sum = paid_app.groupby(['Category'])['Profit'].sum()\n",
    "price_genre_install = round(paid_app.groupby(['Category'])['Installs'].mean(),0)\n",
    "price_genre_count = paid_app.groupby(['Category'])['Profit'].count()\n",
    "price_genre_rating = round(paid_app.groupby(['Category'])['Rating'].mean(),2)\n",
    "genres = paid_app.groupby(['Category'])\n",
    "\n",
    "price_genre_df = pd.DataFrame({\n",
    "                              'Average Price': price_genre_avg,\n",
    "                              'Average Profit':price_genre_profit,\n",
    "                              'Average Installs':price_genre_install, 'Average Rating':price_genre_rating})\n",
    "price_genre_df['Average Installs'] = price_genre_df['Average Installs'].map('{:,.2f}'.format)\n",
    "price_genre_df['Average Rating'] = price_genre_df['Average Rating'].map('{:,.2f}'.format)\n",
    "price_genre_df.sort_values('Average Profit', ascending = False, inplace = True)\n",
    "\n",
    "price_genre_df.head()"
   ]
  },
  {
   "cell_type": "code",
   "execution_count": null,
   "metadata": {},
   "outputs": [],
   "source": []
  },
  {
   "cell_type": "code",
   "execution_count": 120,
   "metadata": {},
   "outputs": [
    {
     "data": {
      "text/html": [
       "<div>\n",
       "<style scoped>\n",
       "    .dataframe tbody tr th:only-of-type {\n",
       "        vertical-align: middle;\n",
       "    }\n",
       "\n",
       "    .dataframe tbody tr th {\n",
       "        vertical-align: top;\n",
       "    }\n",
       "\n",
       "    .dataframe thead th {\n",
       "        text-align: right;\n",
       "    }\n",
       "</style>\n",
       "<table border=\"1\" class=\"dataframe\">\n",
       "  <thead>\n",
       "    <tr style=\"text-align: right;\">\n",
       "      <th></th>\n",
       "      <th>Installs</th>\n",
       "      <th>Count</th>\n",
       "    </tr>\n",
       "    <tr>\n",
       "      <th>Category</th>\n",
       "      <th></th>\n",
       "      <th></th>\n",
       "    </tr>\n",
       "  </thead>\n",
       "  <tbody>\n",
       "    <tr>\n",
       "      <th>GAME</th>\n",
       "      <td>20979162</td>\n",
       "      <td>73</td>\n",
       "    </tr>\n",
       "    <tr>\n",
       "      <th>FAMILY</th>\n",
       "      <td>20788600</td>\n",
       "      <td>137</td>\n",
       "    </tr>\n",
       "    <tr>\n",
       "      <th>PERSONALIZATION</th>\n",
       "      <td>3257520</td>\n",
       "      <td>64</td>\n",
       "    </tr>\n",
       "    <tr>\n",
       "      <th>PHOTOGRAPHY</th>\n",
       "      <td>1877520</td>\n",
       "      <td>14</td>\n",
       "    </tr>\n",
       "    <tr>\n",
       "      <th>TOOLS</th>\n",
       "      <td>1720820</td>\n",
       "      <td>61</td>\n",
       "    </tr>\n",
       "  </tbody>\n",
       "</table>\n",
       "</div>"
      ],
      "text/plain": [
       "                 Installs  Count\n",
       "Category                        \n",
       "GAME             20979162     73\n",
       "FAMILY           20788600    137\n",
       "PERSONALIZATION   3257520     64\n",
       "PHOTOGRAPHY       1877520     14\n",
       "TOOLS             1720820     61"
      ]
     },
     "execution_count": 120,
     "metadata": {},
     "output_type": "execute_result"
    }
   ],
   "source": [
    "paid_cat_installs = paid_app.groupby(\"Category\")[\"Installs\"].sum()\n",
    "paid_cat_count = paid_app.groupby(\"Category\")[\"Installs\"].count()\n",
    "paid_cat_df = pd.DataFrame({\"Installs\":paid_cat_installs,\"Count\": paid_cat_count})\n",
    "paid_cat_df = paid_cat_df.sort_values(\"Installs\",ascending=False)\n",
    "\n",
    "paid_cat_df.head()"
   ]
  },
  {
   "cell_type": "code",
   "execution_count": 192,
   "metadata": {},
   "outputs": [
    {
     "data": {
      "image/png": "[encoded data removed]",
      "text/plain": [
       "<Figure size 1440x360 with 1 Axes>"
      ]
     },
     "metadata": {
      "needs_background": "light"
     },
     "output_type": "display_data"
    }
   ],
   "source": [
    "plt.figure(figsize = (20,5))\n",
    "plt.bar(paid_cat_df.index.values,paid_cat_df.Installs, width = 0.5, align = 'center')\n",
    "plt.xticks(rotation=90)\n",
    "plt.title('Installs by Category in Google - Paid Apps')\n",
    "plt.xlabel('Category')\n",
    "plt.ylabel('Installs (B)')\n",
    "plt.tight_layout()\n",
    "plt.savefig('Count_Installs_by_Genre_Google_PAID_APP.png')"
   ]
  },
  {
   "cell_type": "code",
   "execution_count": null,
   "metadata": {},
   "outputs": [],
   "source": []
  },
  {
   "cell_type": "code",
   "execution_count": 96,
   "metadata": {},
   "outputs": [
    {
     "data": {
      "text/html": [
       "<div>\n",
       "<style scoped>\n",
       "    .dataframe tbody tr th:only-of-type {\n",
       "        vertical-align: middle;\n",
       "    }\n",
       "\n",
       "    .dataframe tbody tr th {\n",
       "        vertical-align: top;\n",
       "    }\n",
       "\n",
       "    .dataframe thead th {\n",
       "        text-align: right;\n",
       "    }\n",
       "</style>\n",
       "<table border=\"1\" class=\"dataframe\">\n",
       "  <thead>\n",
       "    <tr style=\"text-align: right;\">\n",
       "      <th></th>\n",
       "      <th>Average Price</th>\n",
       "      <th>Total Profit</th>\n",
       "      <th>Average Profit</th>\n",
       "      <th>Count</th>\n",
       "      <th>Average Installs</th>\n",
       "    </tr>\n",
       "    <tr>\n",
       "      <th>Category</th>\n",
       "      <th></th>\n",
       "      <th></th>\n",
       "      <th></th>\n",
       "      <th></th>\n",
       "      <th></th>\n",
       "    </tr>\n",
       "  </thead>\n",
       "  <tbody>\n",
       "    <tr>\n",
       "      <th>FAMILY</th>\n",
       "      <td>3.391022</td>\n",
       "      <td>1.013100e+08</td>\n",
       "      <td>739489.189781</td>\n",
       "      <td>137</td>\n",
       "      <td>151741.605839</td>\n",
       "    </tr>\n",
       "    <tr>\n",
       "      <th>PHOTOGRAPHY</th>\n",
       "      <td>3.737143</td>\n",
       "      <td>8.526060e+06</td>\n",
       "      <td>609004.271429</td>\n",
       "      <td>14</td>\n",
       "      <td>134108.571429</td>\n",
       "    </tr>\n",
       "    <tr>\n",
       "      <th>WEATHER</th>\n",
       "      <td>4.204286</td>\n",
       "      <td>4.179885e+06</td>\n",
       "      <td>597126.428571</td>\n",
       "      <td>7</td>\n",
       "      <td>115928.571429</td>\n",
       "    </tr>\n",
       "    <tr>\n",
       "      <th>GAME</th>\n",
       "      <td>3.128630</td>\n",
       "      <td>4.033664e+07</td>\n",
       "      <td>552556.724384</td>\n",
       "      <td>73</td>\n",
       "      <td>287385.780822</td>\n",
       "    </tr>\n",
       "    <tr>\n",
       "      <th>LIFESTYLE</th>\n",
       "      <td>3.577500</td>\n",
       "      <td>6.167159e+06</td>\n",
       "      <td>513929.950000</td>\n",
       "      <td>12</td>\n",
       "      <td>87259.166667</td>\n",
       "    </tr>\n",
       "    <tr>\n",
       "      <th>ENTERTAINMENT</th>\n",
       "      <td>3.990000</td>\n",
       "      <td>7.980000e+05</td>\n",
       "      <td>399000.000000</td>\n",
       "      <td>2</td>\n",
       "      <td>100000.000000</td>\n",
       "    </tr>\n",
       "    <tr>\n",
       "      <th>PRODUCTIVITY</th>\n",
       "      <td>3.940000</td>\n",
       "      <td>4.304452e+06</td>\n",
       "      <td>239136.216667</td>\n",
       "      <td>18</td>\n",
       "      <td>78378.333333</td>\n",
       "    </tr>\n",
       "    <tr>\n",
       "      <th>COMMUNICATION</th>\n",
       "      <td>2.576818</td>\n",
       "      <td>4.247100e+06</td>\n",
       "      <td>193050.000000</td>\n",
       "      <td>22</td>\n",
       "      <td>61818.181818</td>\n",
       "    </tr>\n",
       "    <tr>\n",
       "      <th>SPORTS</th>\n",
       "      <td>3.010476</td>\n",
       "      <td>3.206654e+06</td>\n",
       "      <td>152697.809524</td>\n",
       "      <td>21</td>\n",
       "      <td>56847.619048</td>\n",
       "    </tr>\n",
       "    <tr>\n",
       "      <th>BUSINESS</th>\n",
       "      <td>4.775714</td>\n",
       "      <td>1.037354e+06</td>\n",
       "      <td>148193.485714</td>\n",
       "      <td>7</td>\n",
       "      <td>30294.285714</td>\n",
       "    </tr>\n",
       "    <tr>\n",
       "      <th>TRAVEL_AND_LOCAL</th>\n",
       "      <td>4.686250</td>\n",
       "      <td>1.149250e+06</td>\n",
       "      <td>143656.250000</td>\n",
       "      <td>8</td>\n",
       "      <td>22750.000000</td>\n",
       "    </tr>\n",
       "    <tr>\n",
       "      <th>FOOD_AND_DRINK</th>\n",
       "      <td>4.240000</td>\n",
       "      <td>2.844000e+05</td>\n",
       "      <td>142200.000000</td>\n",
       "      <td>2</td>\n",
       "      <td>30000.000000</td>\n",
       "    </tr>\n",
       "    <tr>\n",
       "      <th>EDUCATION</th>\n",
       "      <td>4.656667</td>\n",
       "      <td>4.089800e+05</td>\n",
       "      <td>136326.666667</td>\n",
       "      <td>3</td>\n",
       "      <td>34000.000000</td>\n",
       "    </tr>\n",
       "    <tr>\n",
       "      <th>HEALTH_AND_FITNESS</th>\n",
       "      <td>3.853636</td>\n",
       "      <td>1.420270e+06</td>\n",
       "      <td>129115.454545</td>\n",
       "      <td>11</td>\n",
       "      <td>43000.000000</td>\n",
       "    </tr>\n",
       "    <tr>\n",
       "      <th>PARENTING</th>\n",
       "      <td>4.790000</td>\n",
       "      <td>2.499590e+05</td>\n",
       "      <td>124979.500000</td>\n",
       "      <td>2</td>\n",
       "      <td>25050.000000</td>\n",
       "    </tr>\n",
       "    <tr>\n",
       "      <th>PERSONALIZATION</th>\n",
       "      <td>1.918594</td>\n",
       "      <td>6.794820e+06</td>\n",
       "      <td>106169.059375</td>\n",
       "      <td>64</td>\n",
       "      <td>50898.750000</td>\n",
       "    </tr>\n",
       "    <tr>\n",
       "      <th>AUTO_AND_VEHICLES</th>\n",
       "      <td>1.990000</td>\n",
       "      <td>9.950000e+04</td>\n",
       "      <td>99500.000000</td>\n",
       "      <td>1</td>\n",
       "      <td>50000.000000</td>\n",
       "    </tr>\n",
       "    <tr>\n",
       "      <th>TOOLS</th>\n",
       "      <td>2.916721</td>\n",
       "      <td>5.372970e+06</td>\n",
       "      <td>88081.480328</td>\n",
       "      <td>61</td>\n",
       "      <td>28210.163934</td>\n",
       "    </tr>\n",
       "    <tr>\n",
       "      <th>VIDEO_PLAYERS</th>\n",
       "      <td>2.615000</td>\n",
       "      <td>3.352900e+05</td>\n",
       "      <td>83822.500000</td>\n",
       "      <td>4</td>\n",
       "      <td>17750.000000</td>\n",
       "    </tr>\n",
       "    <tr>\n",
       "      <th>FINANCE</th>\n",
       "      <td>3.490000</td>\n",
       "      <td>3.373740e+05</td>\n",
       "      <td>56229.000000</td>\n",
       "      <td>6</td>\n",
       "      <td>18766.666667</td>\n",
       "    </tr>\n",
       "    <tr>\n",
       "      <th>MEDICAL</th>\n",
       "      <td>4.523778</td>\n",
       "      <td>1.963432e+06</td>\n",
       "      <td>43631.822222</td>\n",
       "      <td>45</td>\n",
       "      <td>8062.222222</td>\n",
       "    </tr>\n",
       "    <tr>\n",
       "      <th>DATING</th>\n",
       "      <td>6.323333</td>\n",
       "      <td>4.768900e+04</td>\n",
       "      <td>15896.333333</td>\n",
       "      <td>3</td>\n",
       "      <td>3700.000000</td>\n",
       "    </tr>\n",
       "    <tr>\n",
       "      <th>SHOPPING</th>\n",
       "      <td>2.740000</td>\n",
       "      <td>3.014900e+04</td>\n",
       "      <td>15074.500000</td>\n",
       "      <td>2</td>\n",
       "      <td>5050.000000</td>\n",
       "    </tr>\n",
       "    <tr>\n",
       "      <th>BOOKS_AND_REFERENCE</th>\n",
       "      <td>2.985000</td>\n",
       "      <td>8.890150e+04</td>\n",
       "      <td>11112.687500</td>\n",
       "      <td>8</td>\n",
       "      <td>2831.250000</td>\n",
       "    </tr>\n",
       "    <tr>\n",
       "      <th>ART_AND_DESIGN</th>\n",
       "      <td>1.990000</td>\n",
       "      <td>3.184000e+04</td>\n",
       "      <td>10613.333333</td>\n",
       "      <td>3</td>\n",
       "      <td>5333.333333</td>\n",
       "    </tr>\n",
       "    <tr>\n",
       "      <th>MAPS_AND_NAVIGATION</th>\n",
       "      <td>3.740000</td>\n",
       "      <td>4.178900e+04</td>\n",
       "      <td>10447.250000</td>\n",
       "      <td>4</td>\n",
       "      <td>5275.000000</td>\n",
       "    </tr>\n",
       "    <tr>\n",
       "      <th>NEWS_AND_MAGAZINES</th>\n",
       "      <td>1.990000</td>\n",
       "      <td>6.445000e+03</td>\n",
       "      <td>3222.500000</td>\n",
       "      <td>2</td>\n",
       "      <td>2750.000000</td>\n",
       "    </tr>\n",
       "    <tr>\n",
       "      <th>SOCIAL</th>\n",
       "      <td>0.990000</td>\n",
       "      <td>5.940000e+03</td>\n",
       "      <td>2970.000000</td>\n",
       "      <td>2</td>\n",
       "      <td>3000.000000</td>\n",
       "    </tr>\n",
       "  </tbody>\n",
       "</table>\n",
       "</div>"
      ],
      "text/plain": [
       "                     Average Price  Total Profit  Average Profit  Count  \\\n",
       "Category                                                                  \n",
       "FAMILY                    3.391022  1.013100e+08   739489.189781    137   \n",
       "PHOTOGRAPHY               3.737143  8.526060e+06   609004.271429     14   \n",
       "WEATHER                   4.204286  4.179885e+06   597126.428571      7   \n",
       "GAME                      3.128630  4.033664e+07   552556.724384     73   \n",
       "LIFESTYLE                 3.577500  6.167159e+06   513929.950000     12   \n",
       "ENTERTAINMENT             3.990000  7.980000e+05   399000.000000      2   \n",
       "PRODUCTIVITY              3.940000  4.304452e+06   239136.216667     18   \n",
       "COMMUNICATION             2.576818  4.247100e+06   193050.000000     22   \n",
       "SPORTS                    3.010476  3.206654e+06   152697.809524     21   \n",
       "BUSINESS                  4.775714  1.037354e+06   148193.485714      7   \n",
       "TRAVEL_AND_LOCAL          4.686250  1.149250e+06   143656.250000      8   \n",
       "FOOD_AND_DRINK            4.240000  2.844000e+05   142200.000000      2   \n",
       "EDUCATION                 4.656667  4.089800e+05   136326.666667      3   \n",
       "HEALTH_AND_FITNESS        3.853636  1.420270e+06   129115.454545     11   \n",
       "PARENTING                 4.790000  2.499590e+05   124979.500000      2   \n",
       "PERSONALIZATION           1.918594  6.794820e+06   106169.059375     64   \n",
       "AUTO_AND_VEHICLES         1.990000  9.950000e+04    99500.000000      1   \n",
       "TOOLS                     2.916721  5.372970e+06    88081.480328     61   \n",
       "VIDEO_PLAYERS             2.615000  3.352900e+05    83822.500000      4   \n",
       "FINANCE                   3.490000  3.373740e+05    56229.000000      6   \n",
       "MEDICAL                   4.523778  1.963432e+06    43631.822222     45   \n",
       "DATING                    6.323333  4.768900e+04    15896.333333      3   \n",
       "SHOPPING                  2.740000  3.014900e+04    15074.500000      2   \n",
       "BOOKS_AND_REFERENCE       2.985000  8.890150e+04    11112.687500      8   \n",
       "ART_AND_DESIGN            1.990000  3.184000e+04    10613.333333      3   \n",
       "MAPS_AND_NAVIGATION       3.740000  4.178900e+04    10447.250000      4   \n",
       "NEWS_AND_MAGAZINES        1.990000  6.445000e+03     3222.500000      2   \n",
       "SOCIAL                    0.990000  5.940000e+03     2970.000000      2   \n",
       "\n",
       "                     Average Installs  \n",
       "Category                               \n",
       "FAMILY                  151741.605839  \n",
       "PHOTOGRAPHY             134108.571429  \n",
       "WEATHER                 115928.571429  \n",
       "GAME                    287385.780822  \n",
       "LIFESTYLE                87259.166667  \n",
       "ENTERTAINMENT           100000.000000  \n",
       "PRODUCTIVITY             78378.333333  \n",
       "COMMUNICATION            61818.181818  \n",
       "SPORTS                   56847.619048  \n",
       "BUSINESS                 30294.285714  \n",
       "TRAVEL_AND_LOCAL         22750.000000  \n",
       "FOOD_AND_DRINK           30000.000000  \n",
       "EDUCATION                34000.000000  \n",
       "HEALTH_AND_FITNESS       43000.000000  \n",
       "PARENTING                25050.000000  \n",
       "PERSONALIZATION          50898.750000  \n",
       "AUTO_AND_VEHICLES        50000.000000  \n",
       "TOOLS                    28210.163934  \n",
       "VIDEO_PLAYERS            17750.000000  \n",
       "FINANCE                  18766.666667  \n",
       "MEDICAL                   8062.222222  \n",
       "DATING                    3700.000000  \n",
       "SHOPPING                  5050.000000  \n",
       "BOOKS_AND_REFERENCE       2831.250000  \n",
       "ART_AND_DESIGN            5333.333333  \n",
       "MAPS_AND_NAVIGATION       5275.000000  \n",
       "NEWS_AND_MAGAZINES        2750.000000  \n",
       "SOCIAL                    3000.000000  "
      ]
     },
     "execution_count": 96,
     "metadata": {},
     "output_type": "execute_result"
    }
   ],
   "source": [
    "price_cat_avg = paid_app.groupby(['Category'])['Price'].mean()\n",
    "total_cat_profit = paid_app.groupby(['Category'])['Profit'].sum()\n",
    "price_cat_profit = paid_app.groupby(['Category'])['Profit'].mean()\n",
    "price_cat_install = paid_app.groupby(['Category'])['Installs'].mean()\n",
    "price_cat_count = paid_app.groupby(['Category'])['Profit'].count()\n",
    "\n",
    "price_cat_df = pd.DataFrame({\n",
    "                              'Average Price': price_cat_avg, 'Total Profit':total_cat_profit,\n",
    "                              'Average Profit':price_cat_profit,\n",
    "                              'Count':price_cat_count, 'Average Installs':price_cat_install})\n",
    "price_cat_df.sort_values('Average Profit', ascending = False, inplace = True)\n",
    "\n",
    "price_cat_df"
   ]
  },
  {
   "cell_type": "code",
   "execution_count": 193,
   "metadata": {},
   "outputs": [
    {
     "data": {
      "image/png": "[encoded data removed]",
      "text/plain": [
       "<Figure size 1440x360 with 1 Axes>"
      ]
     },
     "metadata": {
      "needs_background": "light"
     },
     "output_type": "display_data"
    }
   ],
   "source": [
    "plt.figure(figsize = (20,5))\n",
    "plt.bar(price_cat_df.index.values,price_cat_df[\"Average Profit\"], width = 0.5, align = 'center')\n",
    "plt.xticks(rotation=90)\n",
    "plt.title('Average Profit by Category - Paid Apps')\n",
    "plt.xlabel('Category')\n",
    "plt.ylabel('Profit (k)')\n",
    "plt.tight_layout()\n",
    "plt.savefig('Avg_profit_by_cat_PAID_Google.png')"
   ]
  },
  {
   "cell_type": "markdown",
   "metadata": {},
   "source": [
    "### GAME APPS ARE KING"
   ]
  },
  {
   "cell_type": "code",
   "execution_count": 159,
   "metadata": {},
   "outputs": [
    {
     "data": {
      "text/html": [
       "<div>\n",
       "<style scoped>\n",
       "    .dataframe tbody tr th:only-of-type {\n",
       "        vertical-align: middle;\n",
       "    }\n",
       "\n",
       "    .dataframe tbody tr th {\n",
       "        vertical-align: top;\n",
       "    }\n",
       "\n",
       "    .dataframe thead th {\n",
       "        text-align: right;\n",
       "    }\n",
       "</style>\n",
       "<table border=\"1\" class=\"dataframe\">\n",
       "  <thead>\n",
       "    <tr style=\"text-align: right;\">\n",
       "      <th></th>\n",
       "      <th>App</th>\n",
       "      <th>Category</th>\n",
       "      <th>Rating</th>\n",
       "      <th>Reviews</th>\n",
       "      <th>Size</th>\n",
       "      <th>Installs</th>\n",
       "      <th>Type</th>\n",
       "      <th>Price</th>\n",
       "      <th>Content Rating</th>\n",
       "      <th>Genres</th>\n",
       "      <th>Last Updated</th>\n",
       "      <th>Current Ver</th>\n",
       "      <th>Android Ver</th>\n",
       "    </tr>\n",
       "  </thead>\n",
       "  <tbody>\n",
       "    <tr>\n",
       "      <th>1872</th>\n",
       "      <td>Subway Surfers</td>\n",
       "      <td>GAME</td>\n",
       "      <td>$4.50</td>\n",
       "      <td>27725352</td>\n",
       "      <td>76M</td>\n",
       "      <td>1000000000</td>\n",
       "      <td>Free</td>\n",
       "      <td>$0.00</td>\n",
       "      <td>Everyone 10+</td>\n",
       "      <td>Arcade</td>\n",
       "      <td>July 12, 2018</td>\n",
       "      <td>1.90.0</td>\n",
       "      <td>4.1 and up</td>\n",
       "    </tr>\n",
       "    <tr>\n",
       "      <th>1869</th>\n",
       "      <td>Candy Crush Saga</td>\n",
       "      <td>GAME</td>\n",
       "      <td>$4.40</td>\n",
       "      <td>22430188</td>\n",
       "      <td>74M</td>\n",
       "      <td>500000000</td>\n",
       "      <td>Free</td>\n",
       "      <td>$0.00</td>\n",
       "      <td>Everyone</td>\n",
       "      <td>Casual</td>\n",
       "      <td>July 5, 2018</td>\n",
       "      <td>1.129.0.2</td>\n",
       "      <td>4.1 and up</td>\n",
       "    </tr>\n",
       "    <tr>\n",
       "      <th>1885</th>\n",
       "      <td>Pou</td>\n",
       "      <td>GAME</td>\n",
       "      <td>$4.30</td>\n",
       "      <td>10486018</td>\n",
       "      <td>24M</td>\n",
       "      <td>500000000</td>\n",
       "      <td>Free</td>\n",
       "      <td>$0.00</td>\n",
       "      <td>Everyone</td>\n",
       "      <td>Casual</td>\n",
       "      <td>May 25, 2018</td>\n",
       "      <td>1.4.77</td>\n",
       "      <td>4.0 and up</td>\n",
       "    </tr>\n",
       "    <tr>\n",
       "      <th>1908</th>\n",
       "      <td>My Talking Tom</td>\n",
       "      <td>GAME</td>\n",
       "      <td>$4.50</td>\n",
       "      <td>14892469</td>\n",
       "      <td>NaN</td>\n",
       "      <td>500000000</td>\n",
       "      <td>Free</td>\n",
       "      <td>$0.00</td>\n",
       "      <td>Everyone</td>\n",
       "      <td>Casual</td>\n",
       "      <td>July 19, 2018</td>\n",
       "      <td>4.8.0.132</td>\n",
       "      <td>4.1 and up</td>\n",
       "    </tr>\n",
       "    <tr>\n",
       "      <th>1920</th>\n",
       "      <td>Temple Run 2</td>\n",
       "      <td>GAME</td>\n",
       "      <td>$4.30</td>\n",
       "      <td>8119154</td>\n",
       "      <td>62M</td>\n",
       "      <td>500000000</td>\n",
       "      <td>Free</td>\n",
       "      <td>$0.00</td>\n",
       "      <td>Everyone</td>\n",
       "      <td>Action</td>\n",
       "      <td>July 5, 2018</td>\n",
       "      <td>1.49.1</td>\n",
       "      <td>4.0 and up</td>\n",
       "    </tr>\n",
       "  </tbody>\n",
       "</table>\n",
       "</div>"
      ],
      "text/plain": [
       "                   App Category  Rating   Reviews Size    Installs  Type  \\\n",
       "1872    Subway Surfers     GAME   $4.50  27725352  76M  1000000000  Free   \n",
       "1869  Candy Crush Saga     GAME   $4.40  22430188  74M   500000000  Free   \n",
       "1885               Pou     GAME   $4.30  10486018  24M   500000000  Free   \n",
       "1908    My Talking Tom     GAME   $4.50  14892469  NaN   500000000  Free   \n",
       "1920      Temple Run 2     GAME   $4.30   8119154  62M   500000000  Free   \n",
       "\n",
       "      Price Content Rating  Genres   Last Updated Current Ver Android Ver  \n",
       "1872  $0.00   Everyone 10+  Arcade  July 12, 2018      1.90.0  4.1 and up  \n",
       "1869  $0.00       Everyone  Casual   July 5, 2018   1.129.0.2  4.1 and up  \n",
       "1885  $0.00       Everyone  Casual   May 25, 2018      1.4.77  4.0 and up  \n",
       "1908  $0.00       Everyone  Casual  July 19, 2018   4.8.0.132  4.1 and up  \n",
       "1920  $0.00       Everyone  Action   July 5, 2018      1.49.1  4.0 and up  "
      ]
     },
     "execution_count": 159,
     "metadata": {},
     "output_type": "execute_result"
    }
   ],
   "source": [
    "game_free = free.loc[free['Category'] == 'GAME']\n",
    "game_free = comm.sort_values('Installs', ascending = False)\n",
    "game_free.head()"
   ]
  },
  {
   "cell_type": "code",
   "execution_count": 160,
   "metadata": {},
   "outputs": [
    {
     "data": {
      "text/html": [
       "<div>\n",
       "<style scoped>\n",
       "    .dataframe tbody tr th:only-of-type {\n",
       "        vertical-align: middle;\n",
       "    }\n",
       "\n",
       "    .dataframe tbody tr th {\n",
       "        vertical-align: top;\n",
       "    }\n",
       "\n",
       "    .dataframe thead th {\n",
       "        text-align: right;\n",
       "    }\n",
       "</style>\n",
       "<table border=\"1\" class=\"dataframe\">\n",
       "  <thead>\n",
       "    <tr style=\"text-align: right;\">\n",
       "      <th></th>\n",
       "      <th>App</th>\n",
       "      <th>Category</th>\n",
       "      <th>Rating</th>\n",
       "      <th>Reviews</th>\n",
       "      <th>Size</th>\n",
       "      <th>Installs</th>\n",
       "      <th>Type</th>\n",
       "      <th>Price</th>\n",
       "      <th>Content Rating</th>\n",
       "      <th>Genres</th>\n",
       "      <th>Last Updated</th>\n",
       "      <th>Current Ver</th>\n",
       "      <th>Android Ver</th>\n",
       "      <th>Profit</th>\n",
       "    </tr>\n",
       "  </thead>\n",
       "  <tbody>\n",
       "    <tr>\n",
       "      <th>2241</th>\n",
       "      <td>Minecraft</td>\n",
       "      <td>FAMILY</td>\n",
       "      <td>$4.50</td>\n",
       "      <td>2376564</td>\n",
       "      <td>NaN</td>\n",
       "      <td>10000000</td>\n",
       "      <td>Paid</td>\n",
       "      <td>$6.99</td>\n",
       "      <td>Everyone 10+</td>\n",
       "      <td>Arcade</td>\n",
       "      <td>July 24, 2018</td>\n",
       "      <td>1.5.2.1</td>\n",
       "      <td>Varies with device</td>\n",
       "      <td>$69,900,000.00</td>\n",
       "    </tr>\n",
       "    <tr>\n",
       "      <th>4260</th>\n",
       "      <td>Cut the Rope GOLD</td>\n",
       "      <td>FAMILY</td>\n",
       "      <td>$4.60</td>\n",
       "      <td>61264</td>\n",
       "      <td>43M</td>\n",
       "      <td>1000000</td>\n",
       "      <td>Paid</td>\n",
       "      <td>$0.99</td>\n",
       "      <td>Everyone</td>\n",
       "      <td>Puzzle</td>\n",
       "      <td>June 19, 2018</td>\n",
       "      <td>3.7.0</td>\n",
       "      <td>4.1 and up</td>\n",
       "      <td>$990,000.00</td>\n",
       "    </tr>\n",
       "    <tr>\n",
       "      <th>6675</th>\n",
       "      <td>Infinity Dungeon VIP</td>\n",
       "      <td>FAMILY</td>\n",
       "      <td>$4.30</td>\n",
       "      <td>21804</td>\n",
       "      <td>44M</td>\n",
       "      <td>1000000</td>\n",
       "      <td>Paid</td>\n",
       "      <td>$0.99</td>\n",
       "      <td>Everyone 10+</td>\n",
       "      <td>Role Playing</td>\n",
       "      <td>July 3, 2018</td>\n",
       "      <td>2.6.6</td>\n",
       "      <td>2.3 and up</td>\n",
       "      <td>$990,000.00</td>\n",
       "    </tr>\n",
       "    <tr>\n",
       "      <th>9678</th>\n",
       "      <td>Where's My Water?</td>\n",
       "      <td>FAMILY</td>\n",
       "      <td>$4.70</td>\n",
       "      <td>188740</td>\n",
       "      <td>69M</td>\n",
       "      <td>1000000</td>\n",
       "      <td>Paid</td>\n",
       "      <td>$1.99</td>\n",
       "      <td>Everyone</td>\n",
       "      <td>Puzzle</td>\n",
       "      <td>July 5, 2018</td>\n",
       "      <td>1.16.0</td>\n",
       "      <td>4.2 and up</td>\n",
       "      <td>$1,990,000.00</td>\n",
       "    </tr>\n",
       "    <tr>\n",
       "      <th>8860</th>\n",
       "      <td>Bloons TD 5</td>\n",
       "      <td>FAMILY</td>\n",
       "      <td>$4.60</td>\n",
       "      <td>190086</td>\n",
       "      <td>94M</td>\n",
       "      <td>1000000</td>\n",
       "      <td>Paid</td>\n",
       "      <td>$2.99</td>\n",
       "      <td>Everyone</td>\n",
       "      <td>Strategy</td>\n",
       "      <td>July 13, 2018</td>\n",
       "      <td>3.16</td>\n",
       "      <td>2.3.3 and up</td>\n",
       "      <td>$2,990,000.00</td>\n",
       "    </tr>\n",
       "    <tr>\n",
       "      <th>2242</th>\n",
       "      <td>Card Wars - Adventure Time</td>\n",
       "      <td>FAMILY</td>\n",
       "      <td>$4.30</td>\n",
       "      <td>129603</td>\n",
       "      <td>23M</td>\n",
       "      <td>1000000</td>\n",
       "      <td>Paid</td>\n",
       "      <td>$2.99</td>\n",
       "      <td>Everyone 10+</td>\n",
       "      <td>Card</td>\n",
       "      <td>February 11, 2016</td>\n",
       "      <td>1.11.0</td>\n",
       "      <td>2.3.3 and up</td>\n",
       "      <td>$2,990,000.00</td>\n",
       "    </tr>\n",
       "    <tr>\n",
       "      <th>9478</th>\n",
       "      <td>Farming Simulator 16</td>\n",
       "      <td>FAMILY</td>\n",
       "      <td>$4.20</td>\n",
       "      <td>32812</td>\n",
       "      <td>14M</td>\n",
       "      <td>500000</td>\n",
       "      <td>Paid</td>\n",
       "      <td>$2.99</td>\n",
       "      <td>Everyone</td>\n",
       "      <td>Simulation</td>\n",
       "      <td>April 10, 2018</td>\n",
       "      <td>1.1.1.6</td>\n",
       "      <td>4.0.3 and up</td>\n",
       "      <td>$1,495,000.00</td>\n",
       "    </tr>\n",
       "    <tr>\n",
       "      <th>9154</th>\n",
       "      <td>NBA JAM by EA SPORTS™</td>\n",
       "      <td>FAMILY</td>\n",
       "      <td>$4.30</td>\n",
       "      <td>56444</td>\n",
       "      <td>43M</td>\n",
       "      <td>500000</td>\n",
       "      <td>Paid</td>\n",
       "      <td>$4.99</td>\n",
       "      <td>Everyone</td>\n",
       "      <td>Sports</td>\n",
       "      <td>February 8, 2017</td>\n",
       "      <td>04.00.40</td>\n",
       "      <td>2.3 and up</td>\n",
       "      <td>$2,495,000.00</td>\n",
       "    </tr>\n",
       "    <tr>\n",
       "      <th>5627</th>\n",
       "      <td>Five Nights at Freddy's 2</td>\n",
       "      <td>FAMILY</td>\n",
       "      <td>$4.60</td>\n",
       "      <td>73919</td>\n",
       "      <td>40M</td>\n",
       "      <td>500000</td>\n",
       "      <td>Paid</td>\n",
       "      <td>$2.99</td>\n",
       "      <td>Teen</td>\n",
       "      <td>Strategy</td>\n",
       "      <td>November 15, 2014</td>\n",
       "      <td>1.07</td>\n",
       "      <td>2.3 and up</td>\n",
       "      <td>$1,495,000.00</td>\n",
       "    </tr>\n",
       "    <tr>\n",
       "      <th>2151</th>\n",
       "      <td>Toca Life: City</td>\n",
       "      <td>FAMILY</td>\n",
       "      <td>$4.70</td>\n",
       "      <td>31100</td>\n",
       "      <td>24M</td>\n",
       "      <td>500000</td>\n",
       "      <td>Paid</td>\n",
       "      <td>$3.99</td>\n",
       "      <td>Everyone</td>\n",
       "      <td>Education</td>\n",
       "      <td>July 6, 2018</td>\n",
       "      <td>1.5-play</td>\n",
       "      <td>4.4 and up</td>\n",
       "      <td>$1,995,000.00</td>\n",
       "    </tr>\n",
       "  </tbody>\n",
       "</table>\n",
       "</div>"
      ],
      "text/plain": [
       "                             App Category  Rating  Reviews Size  Installs  \\\n",
       "2241                   Minecraft   FAMILY   $4.50  2376564  NaN  10000000   \n",
       "4260           Cut the Rope GOLD   FAMILY   $4.60    61264  43M   1000000   \n",
       "6675        Infinity Dungeon VIP   FAMILY   $4.30    21804  44M   1000000   \n",
       "9678           Where's My Water?   FAMILY   $4.70   188740  69M   1000000   \n",
       "8860                 Bloons TD 5   FAMILY   $4.60   190086  94M   1000000   \n",
       "2242  Card Wars - Adventure Time   FAMILY   $4.30   129603  23M   1000000   \n",
       "9478        Farming Simulator 16   FAMILY   $4.20    32812  14M    500000   \n",
       "9154       NBA JAM by EA SPORTS™   FAMILY   $4.30    56444  43M    500000   \n",
       "5627   Five Nights at Freddy's 2   FAMILY   $4.60    73919  40M    500000   \n",
       "2151             Toca Life: City   FAMILY   $4.70    31100  24M    500000   \n",
       "\n",
       "      Type  Price Content Rating        Genres       Last Updated Current Ver  \\\n",
       "2241  Paid  $6.99   Everyone 10+        Arcade      July 24, 2018     1.5.2.1   \n",
       "4260  Paid  $0.99       Everyone        Puzzle      June 19, 2018       3.7.0   \n",
       "6675  Paid  $0.99   Everyone 10+  Role Playing       July 3, 2018       2.6.6   \n",
       "9678  Paid  $1.99       Everyone        Puzzle       July 5, 2018      1.16.0   \n",
       "8860  Paid  $2.99       Everyone      Strategy      July 13, 2018        3.16   \n",
       "2242  Paid  $2.99   Everyone 10+          Card  February 11, 2016      1.11.0   \n",
       "9478  Paid  $2.99       Everyone    Simulation     April 10, 2018     1.1.1.6   \n",
       "9154  Paid  $4.99       Everyone        Sports   February 8, 2017    04.00.40   \n",
       "5627  Paid  $2.99           Teen      Strategy  November 15, 2014        1.07   \n",
       "2151  Paid  $3.99       Everyone     Education       July 6, 2018    1.5-play   \n",
       "\n",
       "             Android Ver         Profit  \n",
       "2241  Varies with device $69,900,000.00  \n",
       "4260          4.1 and up    $990,000.00  \n",
       "6675          2.3 and up    $990,000.00  \n",
       "9678          4.2 and up  $1,990,000.00  \n",
       "8860        2.3.3 and up  $2,990,000.00  \n",
       "2242        2.3.3 and up  $2,990,000.00  \n",
       "9478        4.0.3 and up  $1,495,000.00  \n",
       "9154          2.3 and up  $2,495,000.00  \n",
       "5627          2.3 and up  $1,495,000.00  \n",
       "2151          4.4 and up  $1,995,000.00  "
      ]
     },
     "execution_count": 160,
     "metadata": {},
     "output_type": "execute_result"
    }
   ],
   "source": [
    "fam_paid = paid_app.loc[paid_app['Category'] == 'FAMILY']\n",
    "fam_paid = arcade.sort_values('Installs', ascending = False)\n",
    "arcade.head(10)"
   ]
  },
  {
   "cell_type": "code",
   "execution_count": null,
   "metadata": {},
   "outputs": [],
   "source": []
  },
  {
   "cell_type": "code",
   "execution_count": 40,
   "metadata": {},
   "outputs": [
    {
     "data": {
      "image/png": "[encoded data removed]",
      "text/plain": [
       "<Figure size 432x288 with 1 Axes>"
      ]
     },
     "metadata": {
      "needs_background": "light"
     },
     "output_type": "display_data"
    }
   ],
   "source": [
    "x_axis = paid_app['Installs']\n",
    "y_axis = paid_app['Profit']\n",
    "(slope, intercept, _, _, _) = linregress(x_axis, y_axis)\n",
    "fit = slope * x_axis + intercept\n",
    "\n",
    "fig, ax = plt.subplots()\n",
    "\n",
    "fig.suptitle(\"Profit & Installs Relationship for Paid Apps Under 10\", fontsize=16, fontweight=\"bold\")\n",
    "\n",
    "ax.set_xlabel(\"Installs\")\n",
    "ax.set_ylabel(\"Profit\")\n",
    "\n",
    "ax.plot(x_axis, y_axis, linewidth=0, marker='o')\n",
    "ax.plot(x_axis, fit, 'b--')\n",
    "\n",
    "plt.show()"
   ]
  },
  {
   "cell_type": "code",
   "execution_count": 41,
   "metadata": {},
   "outputs": [
    {
     "data": {
      "text/html": [
       "<div>\n",
       "<style scoped>\n",
       "    .dataframe tbody tr th:only-of-type {\n",
       "        vertical-align: middle;\n",
       "    }\n",
       "\n",
       "    .dataframe tbody tr th {\n",
       "        vertical-align: top;\n",
       "    }\n",
       "\n",
       "    .dataframe thead th {\n",
       "        text-align: right;\n",
       "    }\n",
       "</style>\n",
       "<table border=\"1\" class=\"dataframe\">\n",
       "  <thead>\n",
       "    <tr style=\"text-align: right;\">\n",
       "      <th></th>\n",
       "      <th>App</th>\n",
       "      <th>Category</th>\n",
       "      <th>Rating</th>\n",
       "      <th>Reviews</th>\n",
       "      <th>Size</th>\n",
       "      <th>Installs</th>\n",
       "      <th>Type</th>\n",
       "      <th>Price</th>\n",
       "      <th>Content Rating</th>\n",
       "      <th>Genres</th>\n",
       "      <th>Last Updated</th>\n",
       "      <th>Current Ver</th>\n",
       "      <th>Android Ver</th>\n",
       "    </tr>\n",
       "  </thead>\n",
       "  <tbody>\n",
       "    <tr>\n",
       "      <th>2989</th>\n",
       "      <td>GollerCepte Live Score</td>\n",
       "      <td>SPORTS</td>\n",
       "      <td>4.2</td>\n",
       "      <td>9992</td>\n",
       "      <td>31M</td>\n",
       "      <td>1000000</td>\n",
       "      <td>Free</td>\n",
       "      <td>0.0</td>\n",
       "      <td>Everyone</td>\n",
       "      <td>Sports</td>\n",
       "      <td>May 23, 2018</td>\n",
       "      <td>6.5</td>\n",
       "      <td>4.1 and up</td>\n",
       "    </tr>\n",
       "    <tr>\n",
       "      <th>4970</th>\n",
       "      <td>Ad Block REMOVER - NEED ROOT</td>\n",
       "      <td>TOOLS</td>\n",
       "      <td>3.3</td>\n",
       "      <td>999</td>\n",
       "      <td>91k</td>\n",
       "      <td>100000</td>\n",
       "      <td>Free</td>\n",
       "      <td>0.0</td>\n",
       "      <td>Everyone</td>\n",
       "      <td>Tools</td>\n",
       "      <td>December 17, 2013</td>\n",
       "      <td>3.2</td>\n",
       "      <td>2.2 and up</td>\n",
       "    </tr>\n",
       "    <tr>\n",
       "      <th>2705</th>\n",
       "      <td>SnipSnap Coupon App</td>\n",
       "      <td>SHOPPING</td>\n",
       "      <td>4.2</td>\n",
       "      <td>9975</td>\n",
       "      <td>18M</td>\n",
       "      <td>1000000</td>\n",
       "      <td>Free</td>\n",
       "      <td>0.0</td>\n",
       "      <td>Everyone</td>\n",
       "      <td>Shopping</td>\n",
       "      <td>January 22, 2018</td>\n",
       "      <td>1.4</td>\n",
       "      <td>4.3 and up</td>\n",
       "    </tr>\n",
       "    <tr>\n",
       "      <th>3229</th>\n",
       "      <td>DreamTrips</td>\n",
       "      <td>TRAVEL_AND_LOCAL</td>\n",
       "      <td>4.7</td>\n",
       "      <td>9971</td>\n",
       "      <td>22M</td>\n",
       "      <td>500000</td>\n",
       "      <td>Free</td>\n",
       "      <td>0.0</td>\n",
       "      <td>Teen</td>\n",
       "      <td>Travel &amp; Local</td>\n",
       "      <td>August 6, 2018</td>\n",
       "      <td>1.28.1</td>\n",
       "      <td>5.0 and up</td>\n",
       "    </tr>\n",
       "    <tr>\n",
       "      <th>3049</th>\n",
       "      <td>US Open Tennis Championships 2018</td>\n",
       "      <td>SPORTS</td>\n",
       "      <td>4.0</td>\n",
       "      <td>9971</td>\n",
       "      <td>33M</td>\n",
       "      <td>1000000</td>\n",
       "      <td>Free</td>\n",
       "      <td>0.0</td>\n",
       "      <td>Everyone</td>\n",
       "      <td>Sports</td>\n",
       "      <td>June 5, 2018</td>\n",
       "      <td>7.1</td>\n",
       "      <td>5.0 and up</td>\n",
       "    </tr>\n",
       "  </tbody>\n",
       "</table>\n",
       "</div>"
      ],
      "text/plain": [
       "                                    App          Category  Rating  Reviews  \\\n",
       "2989             GollerCepte Live Score            SPORTS     4.2     9992   \n",
       "4970       Ad Block REMOVER - NEED ROOT             TOOLS     3.3      999   \n",
       "2705                SnipSnap Coupon App          SHOPPING     4.2     9975   \n",
       "3229                         DreamTrips  TRAVEL_AND_LOCAL     4.7     9971   \n",
       "3049  US Open Tennis Championships 2018            SPORTS     4.0     9971   \n",
       "\n",
       "     Size  Installs  Type  Price Content Rating          Genres  \\\n",
       "2989  31M   1000000  Free    0.0       Everyone          Sports   \n",
       "4970  91k    100000  Free    0.0       Everyone           Tools   \n",
       "2705  18M   1000000  Free    0.0       Everyone        Shopping   \n",
       "3229  22M    500000  Free    0.0           Teen  Travel & Local   \n",
       "3049  33M   1000000  Free    0.0       Everyone          Sports   \n",
       "\n",
       "           Last Updated Current Ver Android Ver  \n",
       "2989       May 23, 2018         6.5  4.1 and up  \n",
       "4970  December 17, 2013         3.2  2.2 and up  \n",
       "2705   January 22, 2018         1.4  4.3 and up  \n",
       "3229     August 6, 2018      1.28.1  5.0 and up  \n",
       "3049       June 5, 2018         7.1  5.0 and up  "
      ]
     },
     "execution_count": 41,
     "metadata": {},
     "output_type": "execute_result"
    }
   ],
   "source": [
    "free.head()"
   ]
  },
  {
   "cell_type": "code",
   "execution_count": 42,
   "metadata": {},
   "outputs": [
    {
     "data": {
      "image/png": "[encoded data removed]",
      "text/plain": [
       "<Figure size 432x288 with 1 Axes>"
      ]
     },
     "metadata": {
      "needs_background": "light"
     },
     "output_type": "display_data"
    }
   ],
   "source": [
    "x_axis = free['Installs']\n",
    "y_axis = free['Reviews']\n",
    "(slope, intercept, _, _, _) = linregress(x_axis, y_axis)\n",
    "fit = slope * x_axis + intercept\n",
    "\n",
    "fig, ax = plt.subplots()\n",
    "\n",
    "fig.suptitle(\"Reviews & Installs Free Apps\", fontsize=16, fontweight=\"bold\")\n",
    "\n",
    "ax.set_xlabel(\"Installs\")\n",
    "ax.set_ylabel(\"Reveiws\")\n",
    "\n",
    "ax.plot(x_axis, y_axis, linewidth=0, marker='o')\n",
    "ax.plot(x_axis, fit, 'b--')\n",
    "\n",
    "plt.show()"
   ]
  },
  {
   "cell_type": "code",
   "execution_count": 43,
   "metadata": {},
   "outputs": [
    {
     "data": {
      "image/png": "[encoded data removed]",
      "text/plain": [
       "<Figure size 432x288 with 1 Axes>"
      ]
     },
     "metadata": {
      "needs_background": "light"
     },
     "output_type": "display_data"
    }
   ],
   "source": [
    "x_axis = free['Installs']\n",
    "y_axis = free['Rating']\n",
    "(slope, intercept, _, _, _) = linregress(x_axis, y_axis)\n",
    "fit = slope * x_axis + intercept\n",
    "\n",
    "fig, ax = plt.subplots()\n",
    "\n",
    "fig.suptitle(\"Rating & Installs Free Apps\", fontsize=16, fontweight=\"bold\")\n",
    "\n",
    "ax.set_xlabel(\"Installs\")\n",
    "ax.set_ylabel(\"Rating\")\n",
    "\n",
    "ax.plot(x_axis, y_axis, linewidth=0, marker='o')\n",
    "ax.plot(x_axis, fit, 'b--')\n",
    "\n",
    "plt.show()"
   ]
  },
  {
   "cell_type": "code",
   "execution_count": null,
   "metadata": {},
   "outputs": [],
   "source": []
  },
  {
   "cell_type": "code",
   "execution_count": 173,
   "metadata": {},
   "outputs": [
    {
     "name": "stderr",
     "output_type": "stream",
     "text": [
      "C:\\Users\\shorv\\Anaconda3\\lib\\site-packages\\ipykernel_launcher.py:3: SettingWithCopyWarning: \n",
      "A value is trying to be set on a copy of a slice from a DataFrame.\n",
      "Try using .loc[row_indexer,col_indexer] = value instead\n",
      "\n",
      "See the caveats in the documentation: http://pandas.pydata.org/pandas-docs/stable/indexing.html#indexing-view-versus-copy\n",
      "  This is separate from the ipykernel package so we can avoid doing imports until\n"
     ]
    },
    {
     "data": {
      "text/html": [
       "<div>\n",
       "<style scoped>\n",
       "    .dataframe tbody tr th:only-of-type {\n",
       "        vertical-align: middle;\n",
       "    }\n",
       "\n",
       "    .dataframe tbody tr th {\n",
       "        vertical-align: top;\n",
       "    }\n",
       "\n",
       "    .dataframe thead th {\n",
       "        text-align: right;\n",
       "    }\n",
       "</style>\n",
       "<table border=\"1\" class=\"dataframe\">\n",
       "  <thead>\n",
       "    <tr style=\"text-align: right;\">\n",
       "      <th></th>\n",
       "      <th>Avg Rating</th>\n",
       "      <th>Count</th>\n",
       "      <th>Avg Installs</th>\n",
       "      <th>Avg Profit</th>\n",
       "    </tr>\n",
       "    <tr>\n",
       "      <th>Price_Group</th>\n",
       "      <th></th>\n",
       "      <th></th>\n",
       "      <th></th>\n",
       "      <th></th>\n",
       "    </tr>\n",
       "  </thead>\n",
       "  <tbody>\n",
       "    <tr>\n",
       "      <th>Under 0.99</th>\n",
       "      <td>$4.30</td>\n",
       "      <td>103</td>\n",
       "      <td>$187,713.70</td>\n",
       "      <td>$185,836.56</td>\n",
       "    </tr>\n",
       "    <tr>\n",
       "      <th>0.99-2.99</th>\n",
       "      <td>$4.29</td>\n",
       "      <td>236</td>\n",
       "      <td>$69,464.16</td>\n",
       "      <td>$184,840.54</td>\n",
       "    </tr>\n",
       "    <tr>\n",
       "      <th>2.99 - 4.99</th>\n",
       "      <td>$4.24</td>\n",
       "      <td>148</td>\n",
       "      <td>$39,521.28</td>\n",
       "      <td>$181,786.93</td>\n",
       "    </tr>\n",
       "    <tr>\n",
       "      <th>4.99-10.99</th>\n",
       "      <td>$4.21</td>\n",
       "      <td>61</td>\n",
       "      <td>$243,453.28</td>\n",
       "      <td>$1,692,562.35</td>\n",
       "    </tr>\n",
       "    <tr>\n",
       "      <th>10.99-14.99</th>\n",
       "      <td>$4.34</td>\n",
       "      <td>17</td>\n",
       "      <td>$23,671.18</td>\n",
       "      <td>$319,495.70</td>\n",
       "    </tr>\n",
       "    <tr>\n",
       "      <th>14.99-29.99</th>\n",
       "      <td>$4.24</td>\n",
       "      <td>18</td>\n",
       "      <td>$13,778.89</td>\n",
       "      <td>$330,938.88</td>\n",
       "    </tr>\n",
       "  </tbody>\n",
       "</table>\n",
       "</div>"
      ],
      "text/plain": [
       "             Avg Rating  Count  Avg Installs    Avg Profit\n",
       "Price_Group                                               \n",
       "Under 0.99        $4.30    103   $187,713.70   $185,836.56\n",
       "0.99-2.99         $4.29    236    $69,464.16   $184,840.54\n",
       "2.99 - 4.99       $4.24    148    $39,521.28   $181,786.93\n",
       "4.99-10.99        $4.21     61   $243,453.28 $1,692,562.35\n",
       "10.99-14.99       $4.34     17    $23,671.18   $319,495.70\n",
       "14.99-29.99       $4.24     18    $13,778.89   $330,938.88"
      ]
     },
     "execution_count": 173,
     "metadata": {},
     "output_type": "execute_result"
    }
   ],
   "source": [
    "bins = [0, 0.99, 2.99, 4.99, 10.99, 14.99, 29.99]\n",
    "labels = ['Under 0.99', '0.99-2.99', '2.99 - 4.99', '4.99-10.99', '10.99-14.99', '14.99-29.99']\n",
    "df_p['Price_Group'] = pd.cut(df_p['Price'], bins, labels = labels)\n",
    "\n",
    "ratingmean = df_p.groupby(['Price_Group'])['Rating'].mean()\n",
    "count = df_p.groupby(['Price_Group'])['Rating'].count()\n",
    "avg_installs = df_p.groupby(['Price_Group'])['Installs'].mean()\n",
    "avg_profit = df_p.groupby(['Price_Group'])['Profit'].mean()\n",
    "newdf = pd.DataFrame({'Avg Rating':ratingmean,\n",
    "                     'Count':count,\n",
    "                     'Avg Installs':avg_installs,\n",
    "                     'Avg Profit':avg_profit})\n",
    "\n",
    "newdf"
   ]
  },
  {
   "cell_type": "markdown",
   "metadata": {},
   "source": [
    "#### Distribution Count of Apps by Price Group"
   ]
  },
  {
   "cell_type": "code",
   "execution_count": 195,
   "metadata": {},
   "outputs": [
    {
     "data": {
      "image/png": "[encoded data removed]",
      "text/plain": [
       "<Figure size 432x288 with 1 Axes>"
      ]
     },
     "metadata": {
      "needs_background": "light"
     },
     "output_type": "display_data"
    }
   ],
   "source": [
    "plt.bar(newdf.index.values,newdf.Count, width = 0.5, align = 'center')\n",
    "plt.xticks(rotation=90)\n",
    "plt.title('Count of Apps in Price Range')\n",
    "plt.xlabel('Price Range')\n",
    "plt.ylabel('Count')\n",
    "plt.tight_layout()\n",
    "plt.savefig('Distribution_Count_Apps_by_Price_Google.png')"
   ]
  },
  {
   "cell_type": "markdown",
   "metadata": {},
   "source": [
    "#### Average Installs per Price Group"
   ]
  },
  {
   "cell_type": "code",
   "execution_count": 196,
   "metadata": {},
   "outputs": [
    {
     "data": {
      "image/png": "[encoded data removed]",
      "text/plain": [
       "<Figure size 432x288 with 1 Axes>"
      ]
     },
     "metadata": {
      "needs_background": "light"
     },
     "output_type": "display_data"
    }
   ],
   "source": [
    "plt.bar(newdf.index.values,newdf['Avg Installs'], width = 0.5, align = 'center')\n",
    "plt.xticks(rotation=90)\n",
    "plt.title('Average Installation of Apps in Price Range - Google')\n",
    "plt.xlabel('Price Range')\n",
    "plt.ylabel('Average Installs')\n",
    "plt.tight_layout()\n",
    "plt.savefig('Distribution_Avg_Installs_Apps_by_Price_Google.png')"
   ]
  },
  {
   "cell_type": "code",
   "execution_count": 197,
   "metadata": {},
   "outputs": [
    {
     "data": {
      "image/png": "[encoded data removed]",
      "text/plain": [
       "<Figure size 432x288 with 1 Axes>"
      ]
     },
     "metadata": {
      "needs_background": "light"
     },
     "output_type": "display_data"
    }
   ],
   "source": [
    "plt.bar(newdf.index.values,newdf['Avg Profit'], width = 0.5, align = 'center')\n",
    "plt.xticks(rotation=90)\n",
    "plt.title('Average Profit of Apps in Price Range - Google')\n",
    "plt.xlabel('Price Range')\n",
    "plt.ylabel('Average Profit')\n",
    "plt.tight_layout()\n",
    "plt.savefig('Distribution_Avg_Profit_Apps_by_Price_Google.png')"
   ]
  },
  {
   "cell_type": "code",
   "execution_count": 148,
   "metadata": {},
   "outputs": [],
   "source": [
    "dfinstalls = df.sort_values('Installs', ascending = False)\n",
    "dfinstalls = dfinstalls[['App', 'Category', 'Rating', 'Price', 'Installs']]\n",
    "dfinstalls['Rating'] = dfinstalls['Rating'].map('{:,.2f}'.format)\n",
    "dfinstalls.head(5)\n",
    "dfinstalls.to_csv('Top_Apps_Free_Google.csv')"
   ]
  },
  {
   "cell_type": "code",
   "execution_count": 149,
   "metadata": {},
   "outputs": [],
   "source": [
    "dftoppaid = df_p.sort_values('Installs', ascending = False)\n",
    "dftoppaid = dftoppaid[['App', 'Category', 'Rating', 'Price', 'Installs']]\n",
    "dftoppaid['Rating'] = dftoppaid['Rating'].map('{:,.2f}'.format)\n",
    "dftoppaid.head(5)\n",
    "dftoppaid.to_csv('Top_Apps_Paid_Google.csv')"
   ]
  },
  {
   "cell_type": "code",
   "execution_count": null,
   "metadata": {},
   "outputs": [],
   "source": []
  }
 ],
 "metadata": {
  "kernelspec": {
   "display_name": "Python 3",
   "language": "python",
   "name": "python3"
  },
  "language_info": {
   "codemirror_mode": {
    "name": "ipython",
    "version": 3
   },
   "file_extension": ".py",
   "mimetype": "text/x-python",
   "name": "python",
   "nbconvert_exporter": "python",
   "pygments_lexer": "ipython3",
   "version": "3.7.1"
  }
 },
 "nbformat": 4,
 "nbformat_minor": 2
}
