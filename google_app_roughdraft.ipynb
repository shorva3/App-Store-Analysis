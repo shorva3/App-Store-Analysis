{
 "cells": [
  {
   "cell_type": "code",
   "execution_count": 47,
   "metadata": {},
   "outputs": [],
   "source": [
    "import pandas as pd\n",
    "import numpy as np\n",
    "import matplotlib.pyplot as plt"
   ]
  },
  {
   "cell_type": "code",
   "execution_count": 73,
   "metadata": {},
   "outputs": [
    {
     "data": {
      "text/html": [
       "<div>\n",
       "<style scoped>\n",
       "    .dataframe tbody tr th:only-of-type {\n",
       "        vertical-align: middle;\n",
       "    }\n",
       "\n",
       "    .dataframe tbody tr th {\n",
       "        vertical-align: top;\n",
       "    }\n",
       "\n",
       "    .dataframe thead th {\n",
       "        text-align: right;\n",
       "    }\n",
       "</style>\n",
       "<table border=\"1\" class=\"dataframe\">\n",
       "  <thead>\n",
       "    <tr style=\"text-align: right;\">\n",
       "      <th></th>\n",
       "      <th>App</th>\n",
       "      <th>Category</th>\n",
       "      <th>Rating</th>\n",
       "      <th>Reviews</th>\n",
       "      <th>Size</th>\n",
       "      <th>Installs</th>\n",
       "      <th>Type</th>\n",
       "      <th>Price</th>\n",
       "      <th>Content Rating</th>\n",
       "      <th>Genres</th>\n",
       "      <th>Last Updated</th>\n",
       "      <th>Current Ver</th>\n",
       "      <th>Android Ver</th>\n",
       "    </tr>\n",
       "  </thead>\n",
       "  <tbody>\n",
       "    <tr>\n",
       "      <th>0</th>\n",
       "      <td>Photo Editor &amp; Candy Camera &amp; Grid &amp; ScrapBook</td>\n",
       "      <td>ART_AND_DESIGN</td>\n",
       "      <td>4.1</td>\n",
       "      <td>159</td>\n",
       "      <td>19.0</td>\n",
       "      <td>10000.0</td>\n",
       "      <td>Free</td>\n",
       "      <td>0.0</td>\n",
       "      <td>Everyone</td>\n",
       "      <td>Art &amp; Design</td>\n",
       "      <td>January 7, 2018</td>\n",
       "      <td>1.0.0</td>\n",
       "      <td>4.0.3 and up</td>\n",
       "    </tr>\n",
       "    <tr>\n",
       "      <th>1</th>\n",
       "      <td>Coloring book moana</td>\n",
       "      <td>ART_AND_DESIGN</td>\n",
       "      <td>3.9</td>\n",
       "      <td>967</td>\n",
       "      <td>14.0</td>\n",
       "      <td>500000.0</td>\n",
       "      <td>Free</td>\n",
       "      <td>0.0</td>\n",
       "      <td>Everyone</td>\n",
       "      <td>Art &amp; Design;Pretend Play</td>\n",
       "      <td>January 15, 2018</td>\n",
       "      <td>2.0.0</td>\n",
       "      <td>4.0.3 and up</td>\n",
       "    </tr>\n",
       "    <tr>\n",
       "      <th>2</th>\n",
       "      <td>U Launcher Lite – FREE Live Cool Themes, Hide ...</td>\n",
       "      <td>ART_AND_DESIGN</td>\n",
       "      <td>4.7</td>\n",
       "      <td>87510</td>\n",
       "      <td>8.7</td>\n",
       "      <td>5000000.0</td>\n",
       "      <td>Free</td>\n",
       "      <td>0.0</td>\n",
       "      <td>Everyone</td>\n",
       "      <td>Art &amp; Design</td>\n",
       "      <td>August 1, 2018</td>\n",
       "      <td>1.2.4</td>\n",
       "      <td>4.0.3 and up</td>\n",
       "    </tr>\n",
       "    <tr>\n",
       "      <th>3</th>\n",
       "      <td>Sketch - Draw &amp; Paint</td>\n",
       "      <td>ART_AND_DESIGN</td>\n",
       "      <td>4.5</td>\n",
       "      <td>215644</td>\n",
       "      <td>25.0</td>\n",
       "      <td>50000000.0</td>\n",
       "      <td>Free</td>\n",
       "      <td>0.0</td>\n",
       "      <td>Teen</td>\n",
       "      <td>Art &amp; Design</td>\n",
       "      <td>June 8, 2018</td>\n",
       "      <td>Varies with device</td>\n",
       "      <td>4.2 and up</td>\n",
       "    </tr>\n",
       "    <tr>\n",
       "      <th>4</th>\n",
       "      <td>Pixel Draw - Number Art Coloring Book</td>\n",
       "      <td>ART_AND_DESIGN</td>\n",
       "      <td>4.3</td>\n",
       "      <td>967</td>\n",
       "      <td>2.8</td>\n",
       "      <td>100000.0</td>\n",
       "      <td>Free</td>\n",
       "      <td>0.0</td>\n",
       "      <td>Everyone</td>\n",
       "      <td>Art &amp; Design;Creativity</td>\n",
       "      <td>June 20, 2018</td>\n",
       "      <td>1.1</td>\n",
       "      <td>4.4 and up</td>\n",
       "    </tr>\n",
       "  </tbody>\n",
       "</table>\n",
       "</div>"
      ],
      "text/plain": [
       "                                                 App        Category  Rating  \\\n",
       "0     Photo Editor & Candy Camera & Grid & ScrapBook  ART_AND_DESIGN     4.1   \n",
       "1                                Coloring book moana  ART_AND_DESIGN     3.9   \n",
       "2  U Launcher Lite – FREE Live Cool Themes, Hide ...  ART_AND_DESIGN     4.7   \n",
       "3                              Sketch - Draw & Paint  ART_AND_DESIGN     4.5   \n",
       "4              Pixel Draw - Number Art Coloring Book  ART_AND_DESIGN     4.3   \n",
       "\n",
       "  Reviews  Size    Installs  Type  Price Content Rating  \\\n",
       "0     159  19.0     10000.0  Free    0.0       Everyone   \n",
       "1     967  14.0    500000.0  Free    0.0       Everyone   \n",
       "2   87510   8.7   5000000.0  Free    0.0       Everyone   \n",
       "3  215644  25.0  50000000.0  Free    0.0           Teen   \n",
       "4     967   2.8    100000.0  Free    0.0       Everyone   \n",
       "\n",
       "                      Genres      Last Updated         Current Ver  \\\n",
       "0               Art & Design   January 7, 2018               1.0.0   \n",
       "1  Art & Design;Pretend Play  January 15, 2018               2.0.0   \n",
       "2               Art & Design    August 1, 2018               1.2.4   \n",
       "3               Art & Design      June 8, 2018  Varies with device   \n",
       "4    Art & Design;Creativity     June 20, 2018                 1.1   \n",
       "\n",
       "    Android Ver  \n",
       "0  4.0.3 and up  \n",
       "1  4.0.3 and up  \n",
       "2  4.0.3 and up  \n",
       "3    4.2 and up  \n",
       "4    4.4 and up  "
      ]
     },
     "execution_count": 73,
     "metadata": {},
     "output_type": "execute_result"
    }
   ],
   "source": [
    "apple_data = pd.read_csv(\"AppleStore.csv\")\n",
    "google_data = pd.read_csv(\"googleplaystore.csv\")\n",
    "\n",
    "google_data[\"Price\"] = google_data[\"Price\"].str.replace(\"$\",\"\")\n",
    "google_data[\"Price\"] = google_data[\"Price\"].apply(pd.to_numeric, errors='coerce')\n",
    "google_data[\"Installs\"] = google_data[\"Installs\"].str.replace(\"+\",\"\")\n",
    "google_data[\"Installs\"] = google_data[\"Installs\"].str.replace(\",\",\"\")\n",
    "google_data[\"Installs\"] = google_data[\"Installs\"].apply(pd.to_numeric, errors='coerce')\n",
    "google_data[\"Size\"] =google_data[\"Size\"].str.replace(\"M\",\"\")\n",
    "google_data[\"Size\"] = google_data[\"Size\"].apply(pd.to_numeric,errors='coerce')\n",
    "# google_data = google_data[google_data[\"Price\"]<10]\n",
    "#set price as numbers\n",
    "google_data.head()"
   ]
  },
  {
   "cell_type": "code",
   "execution_count": 74,
   "metadata": {},
   "outputs": [],
   "source": [
    "google_data.groupby(\"Size\")[\"App\"].count()\n",
    "#bin by size\n",
    "bins = [0, 10, 20, 30, 40,50,60,70,80,90,500]\n",
    "group_names = [\"0-10\", \"10-20\", \"20-30\", \"30-40\",\"40-50\",\"50-60\",\"60-70\",\"70-80\",\"80-90\",\"90 & up\"]\n",
    "google_data[\"Size Range\"]=pd.cut(google_data[\"Size\"],bins,labels=group_names,right=False)"
   ]
  },
  {
   "cell_type": "code",
   "execution_count": 75,
   "metadata": {},
   "outputs": [
    {
     "data": {
      "text/plain": [
       "([0, 1, 2, 3, 4, 5, 6, 7, 8, 9], <a list of 10 Text xticklabel objects>)"
      ]
     },
     "execution_count": 75,
     "metadata": {},
     "output_type": "execute_result"
    },
    {
     "data": {
      "image/png": "[encoded data removed]",
      "text/plain": [
       "<Figure size 432x288 with 1 Axes>"
      ]
     },
     "metadata": {
      "needs_background": "light"
     },
     "output_type": "display_data"
    }
   ],
   "source": [
    "df = google_data.groupby(\"Size Range\")[\"Installs\"].mean()\n",
    "plt.bar(df.index.values,df)\n",
    "plt.xticks(rotation=90)"
   ]
  },
  {
   "cell_type": "code",
   "execution_count": 76,
   "metadata": {},
   "outputs": [
    {
     "data": {
      "text/plain": [
       "Installs\n",
       "0.000000e+00      15\n",
       "1.000000e+00      67\n",
       "5.000000e+00      82\n",
       "1.000000e+01     386\n",
       "5.000000e+01     205\n",
       "1.000000e+02     719\n",
       "5.000000e+02     330\n",
       "1.000000e+03     907\n",
       "5.000000e+03     477\n",
       "1.000000e+04    1054\n",
       "5.000000e+04     479\n",
       "1.000000e+05    1169\n",
       "5.000000e+05     539\n",
       "1.000000e+06    1579\n",
       "5.000000e+06     752\n",
       "1.000000e+07    1252\n",
       "5.000000e+07     289\n",
       "1.000000e+08     409\n",
       "5.000000e+08      72\n",
       "1.000000e+09      58\n",
       "Name: App, dtype: int64"
      ]
     },
     "execution_count": 76,
     "metadata": {},
     "output_type": "execute_result"
    }
   ],
   "source": [
    "google_data.groupby(\"Installs\")[\"App\"].count()"
   ]
  },
  {
   "cell_type": "code",
   "execution_count": 77,
   "metadata": {},
   "outputs": [
    {
     "data": {
      "text/plain": [
       "Installs\n",
       "10000.0        1054\n",
       "50000.0         479\n",
       "100000.0       1169\n",
       "500000.0        539\n",
       "1000000.0      1579\n",
       "5000000.0       752\n",
       "10000000.0     1252\n",
       "50000000.0      289\n",
       "100000000.0     409\n",
       "Name: App, dtype: int64"
      ]
     },
     "execution_count": 77,
     "metadata": {},
     "output_type": "execute_result"
    }
   ],
   "source": [
    "#taking out apps with too much installs considering as outliers, installs greater than 5e8\n",
    "#also take out outliers at the lower end as well\n",
    "google_data = google_data[google_data[\"Installs\"]<5e+8]\n",
    "google_data = google_data[google_data[\"Installs\"]>5e+3]\n",
    "google_data.groupby(\"Installs\")[\"App\"].count()"
   ]
  },
  {
   "cell_type": "code",
   "execution_count": 78,
   "metadata": {},
   "outputs": [
    {
     "data": {
      "image/png": "[encoded data removed]",
      "text/plain": [
       "<Figure size 432x288 with 1 Axes>"
      ]
     },
     "metadata": {},
     "output_type": "display_data"
    }
   ],
   "source": [
    "df = google_data.sort_values(\"Installs\",ascending=False)\n",
    "plt.pie(df.groupby(\"Type\")[\"App\"].count(),autopct='%1.0f%%');"
   ]
  },
  {
   "cell_type": "code",
   "execution_count": 79,
   "metadata": {},
   "outputs": [
    {
     "data": {
      "image/png": "[encoded data removed]",
      "text/plain": [
       "<Figure size 432x288 with 1 Axes>"
      ]
     },
     "metadata": {},
     "output_type": "display_data"
    }
   ],
   "source": [
    "plt.pie(google_data.groupby(\"Type\")[\"Installs\"].sum(),autopct='%1.0f%%');"
   ]
  },
  {
   "cell_type": "code",
   "execution_count": 96,
   "metadata": {},
   "outputs": [],
   "source": [
    "#divide by free and paid\n",
    "free_apps = google_data[google_data[\"Price\"]==0]\n",
    "paid_apps = google_data[google_data[\"Price\"]>0]"
   ]
  },
  {
   "cell_type": "code",
   "execution_count": 97,
   "metadata": {},
   "outputs": [],
   "source": [
    "#take top selling apps(free)\n",
    "free_apps = free_apps.sort_values(\"Installs\",ascending = False)"
   ]
  },
  {
   "cell_type": "code",
   "execution_count": 98,
   "metadata": {},
   "outputs": [
    {
     "data": {
      "text/plain": [
       "([0, 1, 2, 3, 4, 5, 6, 7, 8, 9], <a list of 10 Text xticklabel objects>)"
      ]
     },
     "execution_count": 98,
     "metadata": {},
     "output_type": "execute_result"
    },
    {
     "data": {
      "image/png": "[encoded data removed]",
      "text/plain": [
       "<Figure size 432x288 with 1 Axes>"
      ]
     },
     "metadata": {
      "needs_background": "light"
     },
     "output_type": "display_data"
    }
   ],
   "source": [
    "df = free_apps.groupby(\"Size Range\")[\"Installs\"].mean()\n",
    "plt.bar(df.index.values,df)\n",
    "plt.xticks(rotation=90)"
   ]
  },
  {
   "cell_type": "code",
   "execution_count": 99,
   "metadata": {},
   "outputs": [
    {
     "data": {
      "text/plain": [
       "([0, 1, 2, 3, 4, 5, 6, 7, 8, 9], <a list of 10 Text xticklabel objects>)"
      ]
     },
     "execution_count": 99,
     "metadata": {},
     "output_type": "execute_result"
    },
    {
     "data": {
      "image/png": "[encoded data removed]",
      "text/plain": [
       "<Figure size 432x288 with 1 Axes>"
      ]
     },
     "metadata": {
      "needs_background": "light"
     },
     "output_type": "display_data"
    }
   ],
   "source": [
    "df = free_apps.groupby(\"Size Range\")[\"Installs\"].count()\n",
    "plt.bar(df.index.values,df)\n",
    "plt.xticks(rotation=90)"
   ]
  },
  {
   "cell_type": "code",
   "execution_count": 100,
   "metadata": {},
   "outputs": [
    {
     "data": {
      "image/png": "[encoded data removed]",
      "text/plain": [
       "<Figure size 432x288 with 1 Axes>"
      ]
     },
     "metadata": {
      "needs_background": "light"
     },
     "output_type": "display_data"
    }
   ],
   "source": [
    "#free app: category vs install count\n",
    "df = free_apps.groupby(\"Genres\")[\"Installs\"].mean().sort_values(ascending = False).head(20)\n",
    "plt.bar(df.index.values,df)\n",
    "plt.xticks(rotation = 90);"
   ]
  },
  {
   "cell_type": "code",
   "execution_count": 101,
   "metadata": {},
   "outputs": [
    {
     "data": {
      "image/png": "[encoded data removed]",
      "text/plain": [
       "<Figure size 432x288 with 1 Axes>"
      ]
     },
     "metadata": {
      "needs_background": "light"
     },
     "output_type": "display_data"
    }
   ],
   "source": [
    "#comparison based on count of apps\n",
    "df = free_apps.groupby(\"Genres\")[\"Installs\"].count().sort_values(ascending = False).head(20)\n",
    "plt.bar(df.index.values,df)\n",
    "plt.xticks(rotation = 90);"
   ]
  },
  {
   "cell_type": "code",
   "execution_count": 88,
   "metadata": {},
   "outputs": [
    {
     "data": {
      "text/html": [
       "<div>\n",
       "<style scoped>\n",
       "    .dataframe tbody tr th:only-of-type {\n",
       "        vertical-align: middle;\n",
       "    }\n",
       "\n",
       "    .dataframe tbody tr th {\n",
       "        vertical-align: top;\n",
       "    }\n",
       "\n",
       "    .dataframe thead th {\n",
       "        text-align: right;\n",
       "    }\n",
       "</style>\n",
       "<table border=\"1\" class=\"dataframe\">\n",
       "  <thead>\n",
       "    <tr style=\"text-align: right;\">\n",
       "      <th></th>\n",
       "      <th></th>\n",
       "      <th>Installs</th>\n",
       "      <th>Count</th>\n",
       "    </tr>\n",
       "    <tr>\n",
       "      <th>Size</th>\n",
       "      <th>Genres</th>\n",
       "      <th></th>\n",
       "      <th></th>\n",
       "    </tr>\n",
       "  </thead>\n",
       "  <tbody>\n",
       "    <tr>\n",
       "      <th>13.0</th>\n",
       "      <th>News &amp; Magazines</th>\n",
       "      <td>1.000000e+09</td>\n",
       "      <td>4</td>\n",
       "    </tr>\n",
       "    <tr>\n",
       "      <th>76.0</th>\n",
       "      <th>Arcade</th>\n",
       "      <td>1.000000e+09</td>\n",
       "      <td>6</td>\n",
       "    </tr>\n",
       "    <tr>\n",
       "      <th>11.0</th>\n",
       "      <th>Communication</th>\n",
       "      <td>5.000000e+08</td>\n",
       "      <td>1</td>\n",
       "    </tr>\n",
       "    <tr>\n",
       "      <th>17.0</th>\n",
       "      <th>Tools</th>\n",
       "      <td>5.000000e+08</td>\n",
       "      <td>1</td>\n",
       "    </tr>\n",
       "    <tr>\n",
       "      <th>24.0</th>\n",
       "      <th>Casual</th>\n",
       "      <td>5.000000e+08</td>\n",
       "      <td>2</td>\n",
       "    </tr>\n",
       "    <tr>\n",
       "      <th>61.0</th>\n",
       "      <th>Productivity</th>\n",
       "      <td>5.000000e+08</td>\n",
       "      <td>2</td>\n",
       "    </tr>\n",
       "    <tr>\n",
       "      <th>62.0</th>\n",
       "      <th>Action</th>\n",
       "      <td>5.000000e+08</td>\n",
       "      <td>4</td>\n",
       "    </tr>\n",
       "    <tr>\n",
       "      <th>70.0</th>\n",
       "      <th>Health &amp; Fitness</th>\n",
       "      <td>5.000000e+08</td>\n",
       "      <td>1</td>\n",
       "    </tr>\n",
       "    <tr>\n",
       "      <th>74.0</th>\n",
       "      <th>Casual</th>\n",
       "      <td>5.000000e+08</td>\n",
       "      <td>5</td>\n",
       "    </tr>\n",
       "  </tbody>\n",
       "</table>\n",
       "</div>"
      ],
      "text/plain": [
       "                           Installs  Count\n",
       "Size Genres                               \n",
       "13.0 News & Magazines  1.000000e+09      4\n",
       "76.0 Arcade            1.000000e+09      6\n",
       "11.0 Communication     5.000000e+08      1\n",
       "17.0 Tools             5.000000e+08      1\n",
       "24.0 Casual            5.000000e+08      2\n",
       "61.0 Productivity      5.000000e+08      2\n",
       "62.0 Action            5.000000e+08      4\n",
       "70.0 Health & Fitness  5.000000e+08      1\n",
       "74.0 Casual            5.000000e+08      5"
      ]
     },
     "execution_count": 88,
     "metadata": {},
     "output_type": "execute_result"
    }
   ],
   "source": [
    "#maybe the size of the app can be relative to number of installs? might be used as indication of difficulty of creation of the app\n",
    "free_size_genre_installs = free_apps.groupby([\"Size\",\"Genres\"])[\"Installs\"].mean()\n",
    "free_size_genre_installs_count = free_apps.groupby([\"Size\",\"Genres\"])[\"Installs\"].count()\n",
    "free_size_genre = pd.DataFrame({\"Installs\": free_size_genre_installs,\"Count\":free_size_genre_installs_count})\n",
    "free_size_genre.sort_values(\"Installs\",ascending=False)\n",
    "# plt.scatter(free_apps[\"Size\"],free_apps[\"Installs\"])"
   ]
  },
  {
   "cell_type": "code",
   "execution_count": 89,
   "metadata": {},
   "outputs": [
    {
     "name": "stderr",
     "output_type": "stream",
     "text": [
      "C:\\Users\\tivme\\AppData\\Local\\Continuum\\anaconda3\\lib\\site-packages\\ipykernel_launcher.py:1: SettingWithCopyWarning: \n",
      "A value is trying to be set on a copy of a slice from a DataFrame.\n",
      "Try using .loc[row_indexer,col_indexer] = value instead\n",
      "\n",
      "See the caveats in the documentation: http://pandas.pydata.org/pandas-docs/stable/indexing.html#indexing-view-versus-copy\n",
      "  \"\"\"Entry point for launching an IPython kernel.\n"
     ]
    }
   ],
   "source": [
    "paid_apps[\"Profit\"] = paid_apps[\"Price\"]*paid_apps[\"Installs\"]"
   ]
  },
  {
   "cell_type": "code",
   "execution_count": 90,
   "metadata": {},
   "outputs": [],
   "source": [
    "#top sellers in paid apps\n",
    "paid_apps = paid_apps.sort_values(\"Profit\",ascending=False).head(100)"
   ]
  },
  {
   "cell_type": "code",
   "execution_count": 91,
   "metadata": {},
   "outputs": [
    {
     "data": {
      "image/png": "[encoded data removed]",
      "text/plain": [
       "<Figure size 432x288 with 1 Axes>"
      ]
     },
     "metadata": {
      "needs_background": "light"
     },
     "output_type": "display_data"
    }
   ],
   "source": [
    "#comparison based on average profit\n",
    "df = paid_apps.groupby(\"Genres\")[\"Profit\"].mean().sort_values(ascending=False).head(10)\n",
    "plt.bar(df.index.values, df)\n",
    "plt.xticks(rotation = 90);"
   ]
  },
  {
   "cell_type": "code",
   "execution_count": 92,
   "metadata": {},
   "outputs": [
    {
     "data": {
      "image/png": "[encoded data removed]",
      "text/plain": [
       "<Figure size 432x288 with 1 Axes>"
      ]
     },
     "metadata": {
      "needs_background": "light"
     },
     "output_type": "display_data"
    }
   ],
   "source": [
    "#comparison based on count\n",
    "df = paid_apps.groupby(\"Genres\")[\"Profit\"].count().sort_values(ascending=False).head(10)\n",
    "plt.bar(df.index.values, df)\n",
    "plt.xticks(rotation = 90);"
   ]
  },
  {
   "cell_type": "code",
   "execution_count": 93,
   "metadata": {},
   "outputs": [
    {
     "data": {
      "text/html": [
       "<div>\n",
       "<style scoped>\n",
       "    .dataframe tbody tr th:only-of-type {\n",
       "        vertical-align: middle;\n",
       "    }\n",
       "\n",
       "    .dataframe tbody tr th {\n",
       "        vertical-align: top;\n",
       "    }\n",
       "\n",
       "    .dataframe thead th {\n",
       "        text-align: right;\n",
       "    }\n",
       "</style>\n",
       "<table border=\"1\" class=\"dataframe\">\n",
       "  <thead>\n",
       "    <tr style=\"text-align: right;\">\n",
       "      <th></th>\n",
       "      <th></th>\n",
       "      <th>Profit</th>\n",
       "      <th>Count</th>\n",
       "    </tr>\n",
       "    <tr>\n",
       "      <th>Size</th>\n",
       "      <th>Genres</th>\n",
       "      <th></th>\n",
       "      <th></th>\n",
       "    </tr>\n",
       "  </thead>\n",
       "  <tbody>\n",
       "    <tr>\n",
       "      <th>25.0</th>\n",
       "      <th>Medical</th>\n",
       "      <td>2499000.0</td>\n",
       "      <td>3</td>\n",
       "    </tr>\n",
       "    <tr>\n",
       "      <th>48.0</th>\n",
       "      <th>Photography</th>\n",
       "      <td>5990000.0</td>\n",
       "      <td>3</td>\n",
       "    </tr>\n",
       "    <tr>\n",
       "      <th>6.8</th>\n",
       "      <th>Business</th>\n",
       "      <td>499000.0</td>\n",
       "      <td>2</td>\n",
       "    </tr>\n",
       "    <tr>\n",
       "      <th>12.0</th>\n",
       "      <th>Medical</th>\n",
       "      <td>900000.0</td>\n",
       "      <td>2</td>\n",
       "    </tr>\n",
       "    <tr>\n",
       "      <th>14.0</th>\n",
       "      <th>Personalization</th>\n",
       "      <td>2490000.0</td>\n",
       "      <td>2</td>\n",
       "    </tr>\n",
       "    <tr>\n",
       "      <th>39.0</th>\n",
       "      <th>Business</th>\n",
       "      <td>499000.0</td>\n",
       "      <td>2</td>\n",
       "    </tr>\n",
       "    <tr>\n",
       "      <th>42.0</th>\n",
       "      <th>Medical</th>\n",
       "      <td>599500.0</td>\n",
       "      <td>2</td>\n",
       "    </tr>\n",
       "    <tr>\n",
       "      <th>26.0</th>\n",
       "      <th>Personalization</th>\n",
       "      <td>990000.0</td>\n",
       "      <td>2</td>\n",
       "    </tr>\n",
       "    <tr>\n",
       "      <th>24.0</th>\n",
       "      <th>Education;Pretend Play</th>\n",
       "      <td>1995000.0</td>\n",
       "      <td>2</td>\n",
       "    </tr>\n",
       "    <tr>\n",
       "      <th>27.0</th>\n",
       "      <th>Role Playing</th>\n",
       "      <td>999500.0</td>\n",
       "      <td>1</td>\n",
       "    </tr>\n",
       "    <tr>\n",
       "      <th rowspan=\"2\" valign=\"top\">29.0</th>\n",
       "      <th>Action</th>\n",
       "      <td>9900000.0</td>\n",
       "      <td>1</td>\n",
       "    </tr>\n",
       "    <tr>\n",
       "      <th>Adventure</th>\n",
       "      <td>990000.0</td>\n",
       "      <td>1</td>\n",
       "    </tr>\n",
       "    <tr>\n",
       "      <th>41.0</th>\n",
       "      <th>Finance</th>\n",
       "      <td>399990.0</td>\n",
       "      <td>1</td>\n",
       "    </tr>\n",
       "    <tr>\n",
       "      <th>35.0</th>\n",
       "      <th>Tools</th>\n",
       "      <td>449000.0</td>\n",
       "      <td>1</td>\n",
       "    </tr>\n",
       "    <tr>\n",
       "      <th>36.0</th>\n",
       "      <th>Arcade</th>\n",
       "      <td>990000.0</td>\n",
       "      <td>1</td>\n",
       "    </tr>\n",
       "    <tr>\n",
       "      <th rowspan=\"2\" valign=\"top\">26.0</th>\n",
       "      <th>Lifestyle</th>\n",
       "      <td>3999900.0</td>\n",
       "      <td>1</td>\n",
       "    </tr>\n",
       "    <tr>\n",
       "      <th>Action</th>\n",
       "      <td>6990000.0</td>\n",
       "      <td>1</td>\n",
       "    </tr>\n",
       "    <tr>\n",
       "      <th>25.0</th>\n",
       "      <th>Strategy;Action &amp; Adventure</th>\n",
       "      <td>399000.0</td>\n",
       "      <td>1</td>\n",
       "    </tr>\n",
       "    <tr>\n",
       "      <th>40.0</th>\n",
       "      <th>Strategy</th>\n",
       "      <td>1495000.0</td>\n",
       "      <td>1</td>\n",
       "    </tr>\n",
       "    <tr>\n",
       "      <th>33.0</th>\n",
       "      <th>Puzzle</th>\n",
       "      <td>499000.0</td>\n",
       "      <td>1</td>\n",
       "    </tr>\n",
       "    <tr>\n",
       "      <th>1.1</th>\n",
       "      <th>Role Playing</th>\n",
       "      <td>1399000.0</td>\n",
       "      <td>1</td>\n",
       "    </tr>\n",
       "    <tr>\n",
       "      <th>25.0</th>\n",
       "      <th>Sports</th>\n",
       "      <td>1499500.0</td>\n",
       "      <td>1</td>\n",
       "    </tr>\n",
       "    <tr>\n",
       "      <th>43.0</th>\n",
       "      <th>Sports;Action &amp; Adventure</th>\n",
       "      <td>2495000.0</td>\n",
       "      <td>1</td>\n",
       "    </tr>\n",
       "    <tr>\n",
       "      <th>44.0</th>\n",
       "      <th>Role Playing</th>\n",
       "      <td>990000.0</td>\n",
       "      <td>1</td>\n",
       "    </tr>\n",
       "    <tr>\n",
       "      <th>46.0</th>\n",
       "      <th>Action</th>\n",
       "      <td>699000.0</td>\n",
       "      <td>1</td>\n",
       "    </tr>\n",
       "    <tr>\n",
       "      <th>48.0</th>\n",
       "      <th>Puzzle</th>\n",
       "      <td>499000.0</td>\n",
       "      <td>1</td>\n",
       "    </tr>\n",
       "    <tr>\n",
       "      <th>50.0</th>\n",
       "      <th>Action</th>\n",
       "      <td>2990000.0</td>\n",
       "      <td>1</td>\n",
       "    </tr>\n",
       "    <tr>\n",
       "      <th>57.0</th>\n",
       "      <th>Role Playing</th>\n",
       "      <td>499000.0</td>\n",
       "      <td>1</td>\n",
       "    </tr>\n",
       "    <tr>\n",
       "      <th rowspan=\"2\" valign=\"top\">69.0</th>\n",
       "      <th>Puzzle;Brain Games</th>\n",
       "      <td>1990000.0</td>\n",
       "      <td>1</td>\n",
       "    </tr>\n",
       "    <tr>\n",
       "      <th>Simulation</th>\n",
       "      <td>599000.0</td>\n",
       "      <td>1</td>\n",
       "    </tr>\n",
       "    <tr>\n",
       "      <th>...</th>\n",
       "      <th>...</th>\n",
       "      <td>...</td>\n",
       "      <td>...</td>\n",
       "    </tr>\n",
       "    <tr>\n",
       "      <th>7.9</th>\n",
       "      <th>Adventure</th>\n",
       "      <td>499000.0</td>\n",
       "      <td>1</td>\n",
       "    </tr>\n",
       "    <tr>\n",
       "      <th>2.6</th>\n",
       "      <th>Lifestyle</th>\n",
       "      <td>2999900.0</td>\n",
       "      <td>1</td>\n",
       "    </tr>\n",
       "    <tr>\n",
       "      <th rowspan=\"2\" valign=\"top\">2.7</th>\n",
       "      <th>Entertainment</th>\n",
       "      <td>1999950.0</td>\n",
       "      <td>1</td>\n",
       "    </tr>\n",
       "    <tr>\n",
       "      <th>Finance</th>\n",
       "      <td>399990.0</td>\n",
       "      <td>1</td>\n",
       "    </tr>\n",
       "    <tr>\n",
       "      <th>2.8</th>\n",
       "      <th>Personalization</th>\n",
       "      <td>1245000.0</td>\n",
       "      <td>1</td>\n",
       "    </tr>\n",
       "    <tr>\n",
       "      <th>3.8</th>\n",
       "      <th>Finance</th>\n",
       "      <td>1999950.0</td>\n",
       "      <td>1</td>\n",
       "    </tr>\n",
       "    <tr>\n",
       "      <th>4.2</th>\n",
       "      <th>Role Playing</th>\n",
       "      <td>799000.0</td>\n",
       "      <td>1</td>\n",
       "    </tr>\n",
       "    <tr>\n",
       "      <th>4.7</th>\n",
       "      <th>Finance</th>\n",
       "      <td>19999500.0</td>\n",
       "      <td>1</td>\n",
       "    </tr>\n",
       "    <tr>\n",
       "      <th>4.9</th>\n",
       "      <th>Entertainment</th>\n",
       "      <td>3899900.0</td>\n",
       "      <td>1</td>\n",
       "    </tr>\n",
       "    <tr>\n",
       "      <th>5.7</th>\n",
       "      <th>Photography</th>\n",
       "      <td>1495000.0</td>\n",
       "      <td>1</td>\n",
       "    </tr>\n",
       "    <tr>\n",
       "      <th>6.3</th>\n",
       "      <th>Role Playing</th>\n",
       "      <td>999000.0</td>\n",
       "      <td>1</td>\n",
       "    </tr>\n",
       "    <tr>\n",
       "      <th>6.6</th>\n",
       "      <th>Productivity</th>\n",
       "      <td>1495000.0</td>\n",
       "      <td>1</td>\n",
       "    </tr>\n",
       "    <tr>\n",
       "      <th>7.3</th>\n",
       "      <th>Lifestyle</th>\n",
       "      <td>4000000.0</td>\n",
       "      <td>1</td>\n",
       "    </tr>\n",
       "    <tr>\n",
       "      <th>7.8</th>\n",
       "      <th>Role Playing</th>\n",
       "      <td>999000.0</td>\n",
       "      <td>1</td>\n",
       "    </tr>\n",
       "    <tr>\n",
       "      <th>8.0</th>\n",
       "      <th>Adventure;Action &amp; Adventure</th>\n",
       "      <td>499000.0</td>\n",
       "      <td>1</td>\n",
       "    </tr>\n",
       "    <tr>\n",
       "      <th>23.0</th>\n",
       "      <th>Card;Action &amp; Adventure</th>\n",
       "      <td>2990000.0</td>\n",
       "      <td>1</td>\n",
       "    </tr>\n",
       "    <tr>\n",
       "      <th rowspan=\"2\" valign=\"top\">8.7</th>\n",
       "      <th>Entertainment</th>\n",
       "      <td>3999900.0</td>\n",
       "      <td>1</td>\n",
       "    </tr>\n",
       "    <tr>\n",
       "      <th>Weather</th>\n",
       "      <td>399000.0</td>\n",
       "      <td>1</td>\n",
       "    </tr>\n",
       "    <tr>\n",
       "      <th>11.0</th>\n",
       "      <th>Weather</th>\n",
       "      <td>449000.0</td>\n",
       "      <td>1</td>\n",
       "    </tr>\n",
       "    <tr>\n",
       "      <th>12.0</th>\n",
       "      <th>Action</th>\n",
       "      <td>4990000.0</td>\n",
       "      <td>1</td>\n",
       "    </tr>\n",
       "    <tr>\n",
       "      <th>14.0</th>\n",
       "      <th>Simulation;Education</th>\n",
       "      <td>1495000.0</td>\n",
       "      <td>1</td>\n",
       "    </tr>\n",
       "    <tr>\n",
       "      <th rowspan=\"3\" valign=\"top\">15.0</th>\n",
       "      <th>Productivity</th>\n",
       "      <td>449000.0</td>\n",
       "      <td>1</td>\n",
       "    </tr>\n",
       "    <tr>\n",
       "      <th>Role Playing</th>\n",
       "      <td>999000.0</td>\n",
       "      <td>1</td>\n",
       "    </tr>\n",
       "    <tr>\n",
       "      <th>Simulation;Education</th>\n",
       "      <td>499000.0</td>\n",
       "      <td>1</td>\n",
       "    </tr>\n",
       "    <tr>\n",
       "      <th rowspan=\"2\" valign=\"top\">16.0</th>\n",
       "      <th>Adventure</th>\n",
       "      <td>399000.0</td>\n",
       "      <td>1</td>\n",
       "    </tr>\n",
       "    <tr>\n",
       "      <th>Role Playing</th>\n",
       "      <td>499500.0</td>\n",
       "      <td>1</td>\n",
       "    </tr>\n",
       "    <tr>\n",
       "      <th>17.0</th>\n",
       "      <th>Role Playing</th>\n",
       "      <td>1499000.0</td>\n",
       "      <td>1</td>\n",
       "    </tr>\n",
       "    <tr>\n",
       "      <th>21.0</th>\n",
       "      <th>Strategy</th>\n",
       "      <td>999000.0</td>\n",
       "      <td>1</td>\n",
       "    </tr>\n",
       "    <tr>\n",
       "      <th>22.0</th>\n",
       "      <th>Finance</th>\n",
       "      <td>399990.0</td>\n",
       "      <td>1</td>\n",
       "    </tr>\n",
       "    <tr>\n",
       "      <th>100.0</th>\n",
       "      <th>Action</th>\n",
       "      <td>990000.0</td>\n",
       "      <td>1</td>\n",
       "    </tr>\n",
       "  </tbody>\n",
       "</table>\n",
       "<p>69 rows × 2 columns</p>\n",
       "</div>"
      ],
      "text/plain": [
       "                                        Profit  Count\n",
       "Size  Genres                                         \n",
       "25.0  Medical                        2499000.0      3\n",
       "48.0  Photography                    5990000.0      3\n",
       "6.8   Business                        499000.0      2\n",
       "12.0  Medical                         900000.0      2\n",
       "14.0  Personalization                2490000.0      2\n",
       "39.0  Business                        499000.0      2\n",
       "42.0  Medical                         599500.0      2\n",
       "26.0  Personalization                 990000.0      2\n",
       "24.0  Education;Pretend Play         1995000.0      2\n",
       "27.0  Role Playing                    999500.0      1\n",
       "29.0  Action                         9900000.0      1\n",
       "      Adventure                       990000.0      1\n",
       "41.0  Finance                         399990.0      1\n",
       "35.0  Tools                           449000.0      1\n",
       "36.0  Arcade                          990000.0      1\n",
       "26.0  Lifestyle                      3999900.0      1\n",
       "      Action                         6990000.0      1\n",
       "25.0  Strategy;Action & Adventure     399000.0      1\n",
       "40.0  Strategy                       1495000.0      1\n",
       "33.0  Puzzle                          499000.0      1\n",
       "1.1   Role Playing                   1399000.0      1\n",
       "25.0  Sports                         1499500.0      1\n",
       "43.0  Sports;Action & Adventure      2495000.0      1\n",
       "44.0  Role Playing                    990000.0      1\n",
       "46.0  Action                          699000.0      1\n",
       "48.0  Puzzle                          499000.0      1\n",
       "50.0  Action                         2990000.0      1\n",
       "57.0  Role Playing                    499000.0      1\n",
       "69.0  Puzzle;Brain Games             1990000.0      1\n",
       "      Simulation                      599000.0      1\n",
       "...                                        ...    ...\n",
       "7.9   Adventure                       499000.0      1\n",
       "2.6   Lifestyle                      2999900.0      1\n",
       "2.7   Entertainment                  1999950.0      1\n",
       "      Finance                         399990.0      1\n",
       "2.8   Personalization                1245000.0      1\n",
       "3.8   Finance                        1999950.0      1\n",
       "4.2   Role Playing                    799000.0      1\n",
       "4.7   Finance                       19999500.0      1\n",
       "4.9   Entertainment                  3899900.0      1\n",
       "5.7   Photography                    1495000.0      1\n",
       "6.3   Role Playing                    999000.0      1\n",
       "6.6   Productivity                   1495000.0      1\n",
       "7.3   Lifestyle                      4000000.0      1\n",
       "7.8   Role Playing                    999000.0      1\n",
       "8.0   Adventure;Action & Adventure    499000.0      1\n",
       "23.0  Card;Action & Adventure        2990000.0      1\n",
       "8.7   Entertainment                  3999900.0      1\n",
       "      Weather                         399000.0      1\n",
       "11.0  Weather                         449000.0      1\n",
       "12.0  Action                         4990000.0      1\n",
       "14.0  Simulation;Education           1495000.0      1\n",
       "15.0  Productivity                    449000.0      1\n",
       "      Role Playing                    999000.0      1\n",
       "      Simulation;Education            499000.0      1\n",
       "16.0  Adventure                       399000.0      1\n",
       "      Role Playing                    499500.0      1\n",
       "17.0  Role Playing                   1499000.0      1\n",
       "21.0  Strategy                        999000.0      1\n",
       "22.0  Finance                         399990.0      1\n",
       "100.0 Action                          990000.0      1\n",
       "\n",
       "[69 rows x 2 columns]"
      ]
     },
     "execution_count": 93,
     "metadata": {},
     "output_type": "execute_result"
    }
   ],
   "source": [
    "df1 = paid_apps.groupby([\"Size\",\"Genres\"])[\"Profit\"].mean()\n",
    "df2 = paid_apps.groupby([\"Size\",\"Genres\"])[\"Profit\"].count()\n",
    "df = pd.DataFrame({\"Profit\":df1,\"Count\":df2})\n",
    "df.sort_values(\"Count\",ascending=False)"
   ]
  },
  {
   "cell_type": "code",
   "execution_count": 94,
   "metadata": {},
   "outputs": [
    {
     "data": {
      "text/plain": [
       "<matplotlib.collections.PathCollection at 0x2584574e160>"
      ]
     },
     "execution_count": 94,
     "metadata": {},
     "output_type": "execute_result"
    },
    {
     "data": {
      "image/png": "[encoded data removed]",
      "text/plain": [
       "<Figure size 432x288 with 1 Axes>"
      ]
     },
     "metadata": {
      "needs_background": "light"
     },
     "output_type": "display_data"
    }
   ],
   "source": [
    "plt.scatter(paid_apps[\"Size\"],paid_apps[\"Profit\"])"
   ]
  },
  {
   "cell_type": "code",
   "execution_count": 95,
   "metadata": {},
   "outputs": [
    {
     "data": {
      "text/plain": [
       "Size\n",
       "1.0       7\n",
       "1.1      32\n",
       "1.2      41\n",
       "1.3      35\n",
       "1.4      37\n",
       "1.5      48\n",
       "1.6      39\n",
       "1.7      40\n",
       "1.8      50\n",
       "1.9      32\n",
       "2.0      51\n",
       "2.1      40\n",
       "2.2      45\n",
       "2.3      68\n",
       "2.4      48\n",
       "2.5      68\n",
       "2.6      50\n",
       "2.7      53\n",
       "2.8      65\n",
       "2.9      69\n",
       "3.0      61\n",
       "3.1      56\n",
       "3.2      55\n",
       "3.3      77\n",
       "3.4      65\n",
       "3.5      51\n",
       "3.6      57\n",
       "3.7      63\n",
       "3.8      62\n",
       "3.9      62\n",
       "         ..\n",
       "71.0     14\n",
       "72.0     19\n",
       "73.0     15\n",
       "74.0     20\n",
       "75.0     13\n",
       "76.0     27\n",
       "77.0     13\n",
       "78.0     23\n",
       "79.0     11\n",
       "80.0     13\n",
       "81.0     11\n",
       "82.0     21\n",
       "83.0     15\n",
       "84.0      9\n",
       "85.0     17\n",
       "86.0      8\n",
       "87.0     13\n",
       "88.0     14\n",
       "89.0      9\n",
       "90.0      6\n",
       "91.0     22\n",
       "92.0     15\n",
       "93.0     16\n",
       "94.0     17\n",
       "95.0     18\n",
       "96.0     26\n",
       "97.0     20\n",
       "98.0     16\n",
       "99.0     39\n",
       "100.0    16\n",
       "Name: App, Length: 181, dtype: int64"
      ]
     },
     "execution_count": 95,
     "metadata": {},
     "output_type": "execute_result"
    }
   ],
   "source": [
    "google_data.groupby(\"Size\")[\"App\"].count()"
   ]
  },
  {
   "cell_type": "code",
   "execution_count": 96,
   "metadata": {},
   "outputs": [
    {
     "data": {
      "text/plain": [
       "<matplotlib.collections.PathCollection at 0x25846ffaf98>"
      ]
     },
     "execution_count": 96,
     "metadata": {},
     "output_type": "execute_result"
    },
    {
     "data": {
      "image/png": "[encoded data removed]",
      "text/plain": [
       "<Figure size 432x288 with 1 Axes>"
      ]
     },
     "metadata": {
      "needs_background": "light"
     },
     "output_type": "display_data"
    }
   ],
   "source": [
    "plt.scatter(paid_apps[\"Price\"],paid_apps[\"Profit\"])"
   ]
  },
  {
   "cell_type": "code",
   "execution_count": null,
   "metadata": {},
   "outputs": [],
   "source": []
  }
 ],
 "metadata": {
  "kernelspec": {
   "display_name": "Python 3",
   "language": "python",
   "name": "python3"
  },
  "language_info": {
   "codemirror_mode": {
    "name": "ipython",
    "version": 3
   },
   "file_extension": ".py",
   "mimetype": "text/x-python",
   "name": "python",
   "nbconvert_exporter": "python",
   "pygments_lexer": "ipython3",
   "version": "3.7.3"
  }
 },
 "nbformat": 4,
 "nbformat_minor": 2
}
